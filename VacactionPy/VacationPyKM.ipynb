{
 "cells": [
  {
   "cell_type": "markdown",
   "metadata": {},
   "source": [
    "# VacationPy\n",
    "----\n",
    "\n",
    "#### Note\n",
    "* Keep an eye on your API usage. Use https://developers.google.com/maps/reporting/gmp-reporting as reference for how to monitor your usage and billing.\n",
    "\n",
    "* Instructions have been included for each segment. You do not have to follow them exactly, but they are included to help you think through the steps."
   ]
  },
  {
   "cell_type": "code",
   "execution_count": 1,
   "metadata": {},
   "outputs": [],
   "source": [
    "#pip install gmaps"
   ]
  },
  {
   "cell_type": "code",
   "execution_count": 2,
   "metadata": {},
   "outputs": [],
   "source": [
    "# Dependencies and Setup\n",
    "import matplotlib.pyplot as plt\n",
    "import pandas as pd\n",
    "import numpy as np\n",
    "import requests\n",
    "import gmaps\n",
    "import os\n",
    "\n",
    "# Import API key\n",
    "from config import gkey\n",
    "gmaps.configure(api_key=gkey)"
   ]
  },
  {
   "cell_type": "code",
   "execution_count": 3,
   "metadata": {},
   "outputs": [],
   "source": [
    "#conda install -c conda-forge nodejs\n"
   ]
  },
  {
   "cell_type": "markdown",
   "metadata": {},
   "source": [
    "### Store Part I results into DataFrame\n",
    "* Load the csv exported in Part I to a DataFrame"
   ]
  },
  {
   "cell_type": "code",
   "execution_count": 4,
   "metadata": {},
   "outputs": [
    {
     "output_type": "execute_result",
     "data": {
      "text/plain": [
       "             city      lat       lon   temp  cloud  wind speed  humidity  \\\n",
       "0        hermanus -34.4187   19.2345   8.22      6        3.55        82   \n",
       "1       busselton -33.6500  115.3333  10.58     99        8.59        74   \n",
       "2        victoria  22.2855  114.1577  29.49     78        3.13        89   \n",
       "3      georgetown   5.4112  100.3354  26.61     40        1.54        87   \n",
       "4        cherskiy  68.7500  161.3000  13.80    100        5.90        45   \n",
       "..            ...      ...       ...    ...    ...         ...       ...   \n",
       "568          nuuk  64.1835  -51.7216   3.34     90        5.14        87   \n",
       "569        ulenje  -8.9333   33.6833   7.96     36        2.23        92   \n",
       "570          lasa  46.6166   10.7002  18.35     18        1.68        96   \n",
       "571        iguape -24.7081  -47.5553  17.56     67        3.18        84   \n",
       "572  quatre cocos -20.2078   57.7625  20.05     57        7.04        83   \n",
       "\n",
       "    country  \n",
       "0        ZA  \n",
       "1        AU  \n",
       "2        HK  \n",
       "3        MY  \n",
       "4        RU  \n",
       "..      ...  \n",
       "568      GL  \n",
       "569      TZ  \n",
       "570      IT  \n",
       "571      BR  \n",
       "572      MU  \n",
       "\n",
       "[573 rows x 8 columns]"
      ],
      "text/html": "<div>\n<style scoped>\n    .dataframe tbody tr th:only-of-type {\n        vertical-align: middle;\n    }\n\n    .dataframe tbody tr th {\n        vertical-align: top;\n    }\n\n    .dataframe thead th {\n        text-align: right;\n    }\n</style>\n<table border=\"1\" class=\"dataframe\">\n  <thead>\n    <tr style=\"text-align: right;\">\n      <th></th>\n      <th>city</th>\n      <th>lat</th>\n      <th>lon</th>\n      <th>temp</th>\n      <th>cloud</th>\n      <th>wind speed</th>\n      <th>humidity</th>\n      <th>country</th>\n    </tr>\n  </thead>\n  <tbody>\n    <tr>\n      <th>0</th>\n      <td>hermanus</td>\n      <td>-34.4187</td>\n      <td>19.2345</td>\n      <td>8.22</td>\n      <td>6</td>\n      <td>3.55</td>\n      <td>82</td>\n      <td>ZA</td>\n    </tr>\n    <tr>\n      <th>1</th>\n      <td>busselton</td>\n      <td>-33.6500</td>\n      <td>115.3333</td>\n      <td>10.58</td>\n      <td>99</td>\n      <td>8.59</td>\n      <td>74</td>\n      <td>AU</td>\n    </tr>\n    <tr>\n      <th>2</th>\n      <td>victoria</td>\n      <td>22.2855</td>\n      <td>114.1577</td>\n      <td>29.49</td>\n      <td>78</td>\n      <td>3.13</td>\n      <td>89</td>\n      <td>HK</td>\n    </tr>\n    <tr>\n      <th>3</th>\n      <td>georgetown</td>\n      <td>5.4112</td>\n      <td>100.3354</td>\n      <td>26.61</td>\n      <td>40</td>\n      <td>1.54</td>\n      <td>87</td>\n      <td>MY</td>\n    </tr>\n    <tr>\n      <th>4</th>\n      <td>cherskiy</td>\n      <td>68.7500</td>\n      <td>161.3000</td>\n      <td>13.80</td>\n      <td>100</td>\n      <td>5.90</td>\n      <td>45</td>\n      <td>RU</td>\n    </tr>\n    <tr>\n      <th>...</th>\n      <td>...</td>\n      <td>...</td>\n      <td>...</td>\n      <td>...</td>\n      <td>...</td>\n      <td>...</td>\n      <td>...</td>\n      <td>...</td>\n    </tr>\n    <tr>\n      <th>568</th>\n      <td>nuuk</td>\n      <td>64.1835</td>\n      <td>-51.7216</td>\n      <td>3.34</td>\n      <td>90</td>\n      <td>5.14</td>\n      <td>87</td>\n      <td>GL</td>\n    </tr>\n    <tr>\n      <th>569</th>\n      <td>ulenje</td>\n      <td>-8.9333</td>\n      <td>33.6833</td>\n      <td>7.96</td>\n      <td>36</td>\n      <td>2.23</td>\n      <td>92</td>\n      <td>TZ</td>\n    </tr>\n    <tr>\n      <th>570</th>\n      <td>lasa</td>\n      <td>46.6166</td>\n      <td>10.7002</td>\n      <td>18.35</td>\n      <td>18</td>\n      <td>1.68</td>\n      <td>96</td>\n      <td>IT</td>\n    </tr>\n    <tr>\n      <th>571</th>\n      <td>iguape</td>\n      <td>-24.7081</td>\n      <td>-47.5553</td>\n      <td>17.56</td>\n      <td>67</td>\n      <td>3.18</td>\n      <td>84</td>\n      <td>BR</td>\n    </tr>\n    <tr>\n      <th>572</th>\n      <td>quatre cocos</td>\n      <td>-20.2078</td>\n      <td>57.7625</td>\n      <td>20.05</td>\n      <td>57</td>\n      <td>7.04</td>\n      <td>83</td>\n      <td>MU</td>\n    </tr>\n  </tbody>\n</table>\n<p>573 rows × 8 columns</p>\n</div>"
     },
     "metadata": {},
     "execution_count": 4
    }
   ],
   "source": [
    "mapsDF = pd.read_csv('../WeatherPy/cities.csv')\n",
    "mapsDF"
   ]
  },
  {
   "cell_type": "markdown",
   "metadata": {},
   "source": [
    "### Humidity Heatmap\n",
    "* Configure gmaps.\n",
    "* Use the Lat and Lng as locations and Humidity as the weight.\n",
    "* Add Heatmap layer to map."
   ]
  },
  {
   "cell_type": "code",
   "execution_count": 5,
   "metadata": {},
   "outputs": [],
   "source": [
    "locations = mapsDF[[\"lat\", \"lon\"]]\n",
    "\n",
    "humidity = mapsDF['humidity']"
   ]
  },
  {
   "cell_type": "code",
   "execution_count": 6,
   "metadata": {},
   "outputs": [
    {
     "output_type": "display_data",
     "data": {
      "text/plain": "Figure(layout=FigureLayout(height='420px'))",
      "application/vnd.jupyter.widget-view+json": {
       "version_major": 2,
       "version_minor": 0,
       "model_id": "1ddb88f743494550b484ca051955f1e4"
      }
     },
     "metadata": {}
    }
   ],
   "source": [
    "fig = gmaps.figure()\n",
    "\n",
    "heat_layer = gmaps.heatmap_layer(locations, weights=humidity,\n",
    "                                 dissipating=False, max_intensity=30,\n",
    "                                 point_radius=2)\n",
    "\n",
    "fig.add_layer(heat_layer)\n",
    "\n",
    "fig\n"
   ]
  },
  {
   "cell_type": "code",
   "execution_count": null,
   "metadata": {},
   "outputs": [],
   "source": []
  },
  {
   "cell_type": "markdown",
   "metadata": {},
   "source": [
    "### Create new DataFrame fitting weather criteria\n",
    "* Narrow down the cities to fit weather conditions.\n",
    "* Drop any rows will null values."
   ]
  },
  {
   "cell_type": "code",
   "execution_count": 7,
   "metadata": {},
   "outputs": [
    {
     "output_type": "execute_result",
     "data": {
      "text/plain": [
       "                          city      lat       lon   temp  cloud  wind speed  \\\n",
       "56                   marrakesh  31.6315   -8.0083  24.04      0        2.06   \n",
       "64                 brejo santo  -7.4933  -38.9872  21.24      0        2.83   \n",
       "83                      tiznit  29.5833   -9.5000  22.83      0        0.81   \n",
       "84                        gasa  31.5000   34.4667  23.34      0        0.61   \n",
       "114                yerbogachen  61.2767  108.0108  25.92      0        3.03   \n",
       "142                      khash  28.2211   61.2158  23.44      0        0.63   \n",
       "152                  la ciotat  43.1748    5.6045  21.02      0        1.33   \n",
       "198                      nemea  37.8167   22.6667  23.69      0        1.18   \n",
       "223                 santa cruz -17.8000  -63.1667  23.52      0        5.31   \n",
       "234                      mahon  39.8885    4.2658  23.31      0        1.54   \n",
       "242  petropavlovsk-kamchatskiy  53.0452  158.6483  22.33      0        2.00   \n",
       "254                  port said  31.2565   32.2841  24.99      0        4.12   \n",
       "339               la maddalena  41.2142    9.4083  22.03      0        3.71   \n",
       "371                      idlib  35.9306   36.6339  22.66      0        2.82   \n",
       "378                san ignacio  17.1561  -89.0714  24.08      0        2.06   \n",
       "397                     nobres -14.7203  -56.3275  21.78      0        1.42   \n",
       "411                      conde  -7.2597  -34.9075  22.22      0        4.30   \n",
       "454                      zabol  32.2500   67.2500  21.85      0        1.79   \n",
       "487                    pitimbu  -7.4706  -34.8086  24.25      0        5.66   \n",
       "517                  paratinga -12.6906  -43.1842  22.48      0        2.58   \n",
       "555                   mtambile  -5.3833   39.7000  24.66      0        9.24   \n",
       "\n",
       "     humidity country  \n",
       "56         57      MA  \n",
       "64         67      BR  \n",
       "83         53      MA  \n",
       "84         74      PS  \n",
       "114        44      RU  \n",
       "142        54      IR  \n",
       "152        74      FR  \n",
       "198        60      GR  \n",
       "223        50      BO  \n",
       "234        88      ES  \n",
       "242        49      RU  \n",
       "254        88      EG  \n",
       "339        72      IT  \n",
       "371        86      SY  \n",
       "378       100      BZ  \n",
       "397        35      BR  \n",
       "411        85      BR  \n",
       "454        43      AF  \n",
       "487        78      BR  \n",
       "517        44      BR  \n",
       "555        75      TZ  "
      ],
      "text/html": "<div>\n<style scoped>\n    .dataframe tbody tr th:only-of-type {\n        vertical-align: middle;\n    }\n\n    .dataframe tbody tr th {\n        vertical-align: top;\n    }\n\n    .dataframe thead th {\n        text-align: right;\n    }\n</style>\n<table border=\"1\" class=\"dataframe\">\n  <thead>\n    <tr style=\"text-align: right;\">\n      <th></th>\n      <th>city</th>\n      <th>lat</th>\n      <th>lon</th>\n      <th>temp</th>\n      <th>cloud</th>\n      <th>wind speed</th>\n      <th>humidity</th>\n      <th>country</th>\n    </tr>\n  </thead>\n  <tbody>\n    <tr>\n      <th>56</th>\n      <td>marrakesh</td>\n      <td>31.6315</td>\n      <td>-8.0083</td>\n      <td>24.04</td>\n      <td>0</td>\n      <td>2.06</td>\n      <td>57</td>\n      <td>MA</td>\n    </tr>\n    <tr>\n      <th>64</th>\n      <td>brejo santo</td>\n      <td>-7.4933</td>\n      <td>-38.9872</td>\n      <td>21.24</td>\n      <td>0</td>\n      <td>2.83</td>\n      <td>67</td>\n      <td>BR</td>\n    </tr>\n    <tr>\n      <th>83</th>\n      <td>tiznit</td>\n      <td>29.5833</td>\n      <td>-9.5000</td>\n      <td>22.83</td>\n      <td>0</td>\n      <td>0.81</td>\n      <td>53</td>\n      <td>MA</td>\n    </tr>\n    <tr>\n      <th>84</th>\n      <td>gasa</td>\n      <td>31.5000</td>\n      <td>34.4667</td>\n      <td>23.34</td>\n      <td>0</td>\n      <td>0.61</td>\n      <td>74</td>\n      <td>PS</td>\n    </tr>\n    <tr>\n      <th>114</th>\n      <td>yerbogachen</td>\n      <td>61.2767</td>\n      <td>108.0108</td>\n      <td>25.92</td>\n      <td>0</td>\n      <td>3.03</td>\n      <td>44</td>\n      <td>RU</td>\n    </tr>\n    <tr>\n      <th>142</th>\n      <td>khash</td>\n      <td>28.2211</td>\n      <td>61.2158</td>\n      <td>23.44</td>\n      <td>0</td>\n      <td>0.63</td>\n      <td>54</td>\n      <td>IR</td>\n    </tr>\n    <tr>\n      <th>152</th>\n      <td>la ciotat</td>\n      <td>43.1748</td>\n      <td>5.6045</td>\n      <td>21.02</td>\n      <td>0</td>\n      <td>1.33</td>\n      <td>74</td>\n      <td>FR</td>\n    </tr>\n    <tr>\n      <th>198</th>\n      <td>nemea</td>\n      <td>37.8167</td>\n      <td>22.6667</td>\n      <td>23.69</td>\n      <td>0</td>\n      <td>1.18</td>\n      <td>60</td>\n      <td>GR</td>\n    </tr>\n    <tr>\n      <th>223</th>\n      <td>santa cruz</td>\n      <td>-17.8000</td>\n      <td>-63.1667</td>\n      <td>23.52</td>\n      <td>0</td>\n      <td>5.31</td>\n      <td>50</td>\n      <td>BO</td>\n    </tr>\n    <tr>\n      <th>234</th>\n      <td>mahon</td>\n      <td>39.8885</td>\n      <td>4.2658</td>\n      <td>23.31</td>\n      <td>0</td>\n      <td>1.54</td>\n      <td>88</td>\n      <td>ES</td>\n    </tr>\n    <tr>\n      <th>242</th>\n      <td>petropavlovsk-kamchatskiy</td>\n      <td>53.0452</td>\n      <td>158.6483</td>\n      <td>22.33</td>\n      <td>0</td>\n      <td>2.00</td>\n      <td>49</td>\n      <td>RU</td>\n    </tr>\n    <tr>\n      <th>254</th>\n      <td>port said</td>\n      <td>31.2565</td>\n      <td>32.2841</td>\n      <td>24.99</td>\n      <td>0</td>\n      <td>4.12</td>\n      <td>88</td>\n      <td>EG</td>\n    </tr>\n    <tr>\n      <th>339</th>\n      <td>la maddalena</td>\n      <td>41.2142</td>\n      <td>9.4083</td>\n      <td>22.03</td>\n      <td>0</td>\n      <td>3.71</td>\n      <td>72</td>\n      <td>IT</td>\n    </tr>\n    <tr>\n      <th>371</th>\n      <td>idlib</td>\n      <td>35.9306</td>\n      <td>36.6339</td>\n      <td>22.66</td>\n      <td>0</td>\n      <td>2.82</td>\n      <td>86</td>\n      <td>SY</td>\n    </tr>\n    <tr>\n      <th>378</th>\n      <td>san ignacio</td>\n      <td>17.1561</td>\n      <td>-89.0714</td>\n      <td>24.08</td>\n      <td>0</td>\n      <td>2.06</td>\n      <td>100</td>\n      <td>BZ</td>\n    </tr>\n    <tr>\n      <th>397</th>\n      <td>nobres</td>\n      <td>-14.7203</td>\n      <td>-56.3275</td>\n      <td>21.78</td>\n      <td>0</td>\n      <td>1.42</td>\n      <td>35</td>\n      <td>BR</td>\n    </tr>\n    <tr>\n      <th>411</th>\n      <td>conde</td>\n      <td>-7.2597</td>\n      <td>-34.9075</td>\n      <td>22.22</td>\n      <td>0</td>\n      <td>4.30</td>\n      <td>85</td>\n      <td>BR</td>\n    </tr>\n    <tr>\n      <th>454</th>\n      <td>zabol</td>\n      <td>32.2500</td>\n      <td>67.2500</td>\n      <td>21.85</td>\n      <td>0</td>\n      <td>1.79</td>\n      <td>43</td>\n      <td>AF</td>\n    </tr>\n    <tr>\n      <th>487</th>\n      <td>pitimbu</td>\n      <td>-7.4706</td>\n      <td>-34.8086</td>\n      <td>24.25</td>\n      <td>0</td>\n      <td>5.66</td>\n      <td>78</td>\n      <td>BR</td>\n    </tr>\n    <tr>\n      <th>517</th>\n      <td>paratinga</td>\n      <td>-12.6906</td>\n      <td>-43.1842</td>\n      <td>22.48</td>\n      <td>0</td>\n      <td>2.58</td>\n      <td>44</td>\n      <td>BR</td>\n    </tr>\n    <tr>\n      <th>555</th>\n      <td>mtambile</td>\n      <td>-5.3833</td>\n      <td>39.7000</td>\n      <td>24.66</td>\n      <td>0</td>\n      <td>9.24</td>\n      <td>75</td>\n      <td>TZ</td>\n    </tr>\n  </tbody>\n</table>\n</div>"
     },
     "metadata": {},
     "execution_count": 7
    }
   ],
   "source": [
    "newDF = mapsDF.loc[(mapsDF[\"temp\"] <26) & (mapsDF[\"temp\"] >21) \\\n",
    "    & (mapsDF[\"wind speed\"] <10) \\\n",
    "    & (mapsDF[\"cloud\"] == 0)].dropna()\n",
    "\n",
    "newDF"
   ]
  },
  {
   "cell_type": "markdown",
   "metadata": {},
   "source": [
    "### Hotel Map\n",
    "* Store into variable named `hotel_df`.\n",
    "* Add a \"Hotel Name\" column to the DataFrame.\n",
    "* Set parameters to search for hotels with 5000 meters.\n",
    "* Hit the Google Places API for each city's coordinates.\n",
    "* Store the first Hotel result into the DataFrame.\n",
    "* Plot markers on top of the heatmap."
   ]
  },
  {
   "cell_type": "code",
   "execution_count": 8,
   "metadata": {},
   "outputs": [
    {
     "output_type": "execute_result",
     "data": {
      "text/plain": [
       "                          city      lat       lon   temp  cloud  wind speed  \\\n",
       "56                   marrakesh  31.6315   -8.0083  24.04      0        2.06   \n",
       "64                 brejo santo  -7.4933  -38.9872  21.24      0        2.83   \n",
       "83                      tiznit  29.5833   -9.5000  22.83      0        0.81   \n",
       "84                        gasa  31.5000   34.4667  23.34      0        0.61   \n",
       "114                yerbogachen  61.2767  108.0108  25.92      0        3.03   \n",
       "142                      khash  28.2211   61.2158  23.44      0        0.63   \n",
       "152                  la ciotat  43.1748    5.6045  21.02      0        1.33   \n",
       "198                      nemea  37.8167   22.6667  23.69      0        1.18   \n",
       "223                 santa cruz -17.8000  -63.1667  23.52      0        5.31   \n",
       "234                      mahon  39.8885    4.2658  23.31      0        1.54   \n",
       "242  petropavlovsk-kamchatskiy  53.0452  158.6483  22.33      0        2.00   \n",
       "254                  port said  31.2565   32.2841  24.99      0        4.12   \n",
       "339               la maddalena  41.2142    9.4083  22.03      0        3.71   \n",
       "371                      idlib  35.9306   36.6339  22.66      0        2.82   \n",
       "378                san ignacio  17.1561  -89.0714  24.08      0        2.06   \n",
       "397                     nobres -14.7203  -56.3275  21.78      0        1.42   \n",
       "411                      conde  -7.2597  -34.9075  22.22      0        4.30   \n",
       "454                      zabol  32.2500   67.2500  21.85      0        1.79   \n",
       "487                    pitimbu  -7.4706  -34.8086  24.25      0        5.66   \n",
       "517                  paratinga -12.6906  -43.1842  22.48      0        2.58   \n",
       "555                   mtambile  -5.3833   39.7000  24.66      0        9.24   \n",
       "\n",
       "     humidity country Hotel Name  \n",
       "56         57      MA             \n",
       "64         67      BR             \n",
       "83         53      MA             \n",
       "84         74      PS             \n",
       "114        44      RU             \n",
       "142        54      IR             \n",
       "152        74      FR             \n",
       "198        60      GR             \n",
       "223        50      BO             \n",
       "234        88      ES             \n",
       "242        49      RU             \n",
       "254        88      EG             \n",
       "339        72      IT             \n",
       "371        86      SY             \n",
       "378       100      BZ             \n",
       "397        35      BR             \n",
       "411        85      BR             \n",
       "454        43      AF             \n",
       "487        78      BR             \n",
       "517        44      BR             \n",
       "555        75      TZ             "
      ],
      "text/html": "<div>\n<style scoped>\n    .dataframe tbody tr th:only-of-type {\n        vertical-align: middle;\n    }\n\n    .dataframe tbody tr th {\n        vertical-align: top;\n    }\n\n    .dataframe thead th {\n        text-align: right;\n    }\n</style>\n<table border=\"1\" class=\"dataframe\">\n  <thead>\n    <tr style=\"text-align: right;\">\n      <th></th>\n      <th>city</th>\n      <th>lat</th>\n      <th>lon</th>\n      <th>temp</th>\n      <th>cloud</th>\n      <th>wind speed</th>\n      <th>humidity</th>\n      <th>country</th>\n      <th>Hotel Name</th>\n    </tr>\n  </thead>\n  <tbody>\n    <tr>\n      <th>56</th>\n      <td>marrakesh</td>\n      <td>31.6315</td>\n      <td>-8.0083</td>\n      <td>24.04</td>\n      <td>0</td>\n      <td>2.06</td>\n      <td>57</td>\n      <td>MA</td>\n      <td></td>\n    </tr>\n    <tr>\n      <th>64</th>\n      <td>brejo santo</td>\n      <td>-7.4933</td>\n      <td>-38.9872</td>\n      <td>21.24</td>\n      <td>0</td>\n      <td>2.83</td>\n      <td>67</td>\n      <td>BR</td>\n      <td></td>\n    </tr>\n    <tr>\n      <th>83</th>\n      <td>tiznit</td>\n      <td>29.5833</td>\n      <td>-9.5000</td>\n      <td>22.83</td>\n      <td>0</td>\n      <td>0.81</td>\n      <td>53</td>\n      <td>MA</td>\n      <td></td>\n    </tr>\n    <tr>\n      <th>84</th>\n      <td>gasa</td>\n      <td>31.5000</td>\n      <td>34.4667</td>\n      <td>23.34</td>\n      <td>0</td>\n      <td>0.61</td>\n      <td>74</td>\n      <td>PS</td>\n      <td></td>\n    </tr>\n    <tr>\n      <th>114</th>\n      <td>yerbogachen</td>\n      <td>61.2767</td>\n      <td>108.0108</td>\n      <td>25.92</td>\n      <td>0</td>\n      <td>3.03</td>\n      <td>44</td>\n      <td>RU</td>\n      <td></td>\n    </tr>\n    <tr>\n      <th>142</th>\n      <td>khash</td>\n      <td>28.2211</td>\n      <td>61.2158</td>\n      <td>23.44</td>\n      <td>0</td>\n      <td>0.63</td>\n      <td>54</td>\n      <td>IR</td>\n      <td></td>\n    </tr>\n    <tr>\n      <th>152</th>\n      <td>la ciotat</td>\n      <td>43.1748</td>\n      <td>5.6045</td>\n      <td>21.02</td>\n      <td>0</td>\n      <td>1.33</td>\n      <td>74</td>\n      <td>FR</td>\n      <td></td>\n    </tr>\n    <tr>\n      <th>198</th>\n      <td>nemea</td>\n      <td>37.8167</td>\n      <td>22.6667</td>\n      <td>23.69</td>\n      <td>0</td>\n      <td>1.18</td>\n      <td>60</td>\n      <td>GR</td>\n      <td></td>\n    </tr>\n    <tr>\n      <th>223</th>\n      <td>santa cruz</td>\n      <td>-17.8000</td>\n      <td>-63.1667</td>\n      <td>23.52</td>\n      <td>0</td>\n      <td>5.31</td>\n      <td>50</td>\n      <td>BO</td>\n      <td></td>\n    </tr>\n    <tr>\n      <th>234</th>\n      <td>mahon</td>\n      <td>39.8885</td>\n      <td>4.2658</td>\n      <td>23.31</td>\n      <td>0</td>\n      <td>1.54</td>\n      <td>88</td>\n      <td>ES</td>\n      <td></td>\n    </tr>\n    <tr>\n      <th>242</th>\n      <td>petropavlovsk-kamchatskiy</td>\n      <td>53.0452</td>\n      <td>158.6483</td>\n      <td>22.33</td>\n      <td>0</td>\n      <td>2.00</td>\n      <td>49</td>\n      <td>RU</td>\n      <td></td>\n    </tr>\n    <tr>\n      <th>254</th>\n      <td>port said</td>\n      <td>31.2565</td>\n      <td>32.2841</td>\n      <td>24.99</td>\n      <td>0</td>\n      <td>4.12</td>\n      <td>88</td>\n      <td>EG</td>\n      <td></td>\n    </tr>\n    <tr>\n      <th>339</th>\n      <td>la maddalena</td>\n      <td>41.2142</td>\n      <td>9.4083</td>\n      <td>22.03</td>\n      <td>0</td>\n      <td>3.71</td>\n      <td>72</td>\n      <td>IT</td>\n      <td></td>\n    </tr>\n    <tr>\n      <th>371</th>\n      <td>idlib</td>\n      <td>35.9306</td>\n      <td>36.6339</td>\n      <td>22.66</td>\n      <td>0</td>\n      <td>2.82</td>\n      <td>86</td>\n      <td>SY</td>\n      <td></td>\n    </tr>\n    <tr>\n      <th>378</th>\n      <td>san ignacio</td>\n      <td>17.1561</td>\n      <td>-89.0714</td>\n      <td>24.08</td>\n      <td>0</td>\n      <td>2.06</td>\n      <td>100</td>\n      <td>BZ</td>\n      <td></td>\n    </tr>\n    <tr>\n      <th>397</th>\n      <td>nobres</td>\n      <td>-14.7203</td>\n      <td>-56.3275</td>\n      <td>21.78</td>\n      <td>0</td>\n      <td>1.42</td>\n      <td>35</td>\n      <td>BR</td>\n      <td></td>\n    </tr>\n    <tr>\n      <th>411</th>\n      <td>conde</td>\n      <td>-7.2597</td>\n      <td>-34.9075</td>\n      <td>22.22</td>\n      <td>0</td>\n      <td>4.30</td>\n      <td>85</td>\n      <td>BR</td>\n      <td></td>\n    </tr>\n    <tr>\n      <th>454</th>\n      <td>zabol</td>\n      <td>32.2500</td>\n      <td>67.2500</td>\n      <td>21.85</td>\n      <td>0</td>\n      <td>1.79</td>\n      <td>43</td>\n      <td>AF</td>\n      <td></td>\n    </tr>\n    <tr>\n      <th>487</th>\n      <td>pitimbu</td>\n      <td>-7.4706</td>\n      <td>-34.8086</td>\n      <td>24.25</td>\n      <td>0</td>\n      <td>5.66</td>\n      <td>78</td>\n      <td>BR</td>\n      <td></td>\n    </tr>\n    <tr>\n      <th>517</th>\n      <td>paratinga</td>\n      <td>-12.6906</td>\n      <td>-43.1842</td>\n      <td>22.48</td>\n      <td>0</td>\n      <td>2.58</td>\n      <td>44</td>\n      <td>BR</td>\n      <td></td>\n    </tr>\n    <tr>\n      <th>555</th>\n      <td>mtambile</td>\n      <td>-5.3833</td>\n      <td>39.7000</td>\n      <td>24.66</td>\n      <td>0</td>\n      <td>9.24</td>\n      <td>75</td>\n      <td>TZ</td>\n      <td></td>\n    </tr>\n  </tbody>\n</table>\n</div>"
     },
     "metadata": {},
     "execution_count": 8
    }
   ],
   "source": [
    "hotel_df = newDF.copy()\n",
    "hotel_df[\"Hotel Name\"] = \"\"\n",
    "hotel_df"
   ]
  },
  {
   "cell_type": "code",
   "execution_count": 9,
   "metadata": {},
   "outputs": [],
   "source": [
    "url = \"https://maps.googleapis.com/maps/api/place/nearbysearch/json\"\n",
    "params = {\"type\": \"hotel\",\n",
    "          \"keyword\": \"hotel\",\n",
    "          \"radius\": 5000,\n",
    "          \"key\": gkey}"
   ]
  },
  {
   "cell_type": "code",
   "execution_count": 10,
   "metadata": {},
   "outputs": [
    {
     "output_type": "stream",
     "name": "stdout",
     "text": [
      "Retrieving Results for Index 56: marrakesh.\n",
      "Missing field/result... skipping.\n",
      "------------\n",
      "Retrieving Results for Index 64: brejo santo.\n",
      "Missing field/result... skipping.\n",
      "------------\n",
      "Retrieving Results for Index 83: tiznit.\n",
      "Missing field/result... skipping.\n",
      "------------\n",
      "Retrieving Results for Index 84: gasa.\n",
      "Missing field/result... skipping.\n",
      "------------\n",
      "Retrieving Results for Index 114: yerbogachen.\n",
      "Missing field/result... skipping.\n",
      "------------\n",
      "Retrieving Results for Index 142: khash.\n",
      "Missing field/result... skipping.\n",
      "------------\n",
      "Retrieving Results for Index 152: la ciotat.\n",
      "Missing field/result... skipping.\n",
      "------------\n",
      "Retrieving Results for Index 198: nemea.\n",
      "Missing field/result... skipping.\n",
      "------------\n",
      "Retrieving Results for Index 223: santa cruz.\n",
      "Missing field/result... skipping.\n",
      "------------\n",
      "Retrieving Results for Index 234: mahon.\n",
      "Missing field/result... skipping.\n",
      "------------\n",
      "Retrieving Results for Index 242: petropavlovsk-kamchatskiy.\n",
      "Missing field/result... skipping.\n",
      "------------\n",
      "Retrieving Results for Index 254: port said.\n",
      "Missing field/result... skipping.\n",
      "------------\n",
      "Retrieving Results for Index 339: la maddalena.\n",
      "Missing field/result... skipping.\n",
      "------------\n",
      "Retrieving Results for Index 371: idlib.\n",
      "Missing field/result... skipping.\n",
      "------------\n",
      "Retrieving Results for Index 378: san ignacio.\n",
      "Missing field/result... skipping.\n",
      "------------\n",
      "Retrieving Results for Index 397: nobres.\n",
      "Missing field/result... skipping.\n",
      "------------\n",
      "Retrieving Results for Index 411: conde.\n",
      "Missing field/result... skipping.\n",
      "------------\n",
      "Retrieving Results for Index 454: zabol.\n",
      "Missing field/result... skipping.\n",
      "------------\n",
      "Retrieving Results for Index 487: pitimbu.\n",
      "Missing field/result... skipping.\n",
      "------------\n",
      "Retrieving Results for Index 517: paratinga.\n",
      "Missing field/result... skipping.\n",
      "------------\n",
      "Retrieving Results for Index 555: mtambile.\n",
      "Missing field/result... skipping.\n",
      "------------\n",
      "-------End of Search--------\n"
     ]
    }
   ],
   "source": [
    "for index, row in hotel_df.iterrows():\n",
    "    lat = row[\"lat\"]\n",
    "    lon = row[\"lon\"]\n",
    "    city_name = row[\"city\"]\n",
    "    \n",
    "\n",
    "    params[\"location\"] = f\"{lat},{lon}\"\n",
    "\n",
    "    print(f\"Retrieving Results for Index {index}: {city_name}.\")\n",
    "    response = requests.get(url, params=params).json()\n",
    "    \n",
    "\n",
    "    results = response[\"results\"]\n",
    "\n",
    "    try:\n",
    "        print(f\"Closest hotel in {city_name} is {results[0]['name']}.\")\n",
    "        hotel_df.loc[index, 'Hotel Name'] = results[0]['name']\n",
    "\n",
    "    except (KeyError, IndexError):\n",
    "        print(\"Missing field/result... skipping.\")\n",
    "    \n",
    "    print(\"------------\")\n",
    "\n",
    "print(\"-------End of Search--------\")\n",
    "\n"
   ]
  },
  {
   "cell_type": "code",
   "execution_count": 11,
   "metadata": {},
   "outputs": [],
   "source": [
    "# NOTE: Do not change any of the code in this cell\n",
    "\n",
    "# Using the template add the hotel marks to the heatmap\n",
    "info_box_template = \"\"\"\n",
    "<dl>\n",
    "<dt>Name</dt><dd>{Hotel Name}</dd>\n",
    "<dt>city</dt><dd>{city}</dd>\n",
    "<dt>country</dt><dd>{country}</dd>\n",
    "</dl>\n",
    "\"\"\"\n",
    "# Store the DataFrame Row\n",
    "# NOTE: be sure to update with your DataFrame name\n",
    "hotel_info = [info_box_template.format(**row) for index, row in hotel_df.iterrows()]\n",
    "locations = hotel_df[[\"lat\", \"lon\"]]"
   ]
  },
  {
   "cell_type": "code",
   "execution_count": 16,
   "metadata": {},
   "outputs": [
    {
     "output_type": "display_data",
     "data": {
      "text/plain": "Figure(layout=FigureLayout(height='420px'))",
      "application/vnd.jupyter.widget-view+json": {
       "version_major": 2,
       "version_minor": 0,
       "model_id": "1ddb88f743494550b484ca051955f1e4"
      }
     },
     "metadata": {}
    },
    {
     "output_type": "display_data",
     "data": {
      "text/plain": "<Figure size 432x288 with 0 Axes>"
     },
     "metadata": {}
    }
   ],
   "source": [
    "# Add marker layer ontop of heat map\n",
    "markers = gmaps.marker_layer(locations,info_box_content= hotel_info)\n",
    "\n",
    "fig.add_layer(markers)\n",
    "\n",
    "\n",
    "# save to PNG\n",
    "\n",
    "# Display figure\n",
    "fig\n"
   ]
  },
  {
   "cell_type": "code",
   "execution_count": 18,
   "metadata": {},
   "outputs": [
    {
     "output_type": "display_data",
     "data": {
      "text/plain": "<Figure size 432x288 with 0 Axes>"
     },
     "metadata": {}
    }
   ],
   "source": [
    "plt.savefig(\"/Users/kylethomasmataloni/Desktop/python_api_challenge/VacactionPy/heatmap.png\")\n",
    "plt.show()"
   ]
  },
  {
   "cell_type": "code",
   "execution_count": null,
   "metadata": {},
   "outputs": [],
   "source": []
  }
 ],
 "metadata": {
  "interpreter": {
   "hash": "d0845596d65c8df8be10fb8c1b6ee2e5ee7ca780157cb06c0cb255a0778f14fd"
  },
  "kernelspec": {
   "name": "python3",
   "display_name": "Python 3.8.5 64-bit ('base': conda)"
  },
  "language_info": {
   "codemirror_mode": {
    "name": "ipython",
    "version": 3
   },
   "file_extension": ".py",
   "mimetype": "text/x-python",
   "name": "python",
   "nbconvert_exporter": "python",
   "pygments_lexer": "ipython3",
   "version": "3.8.5"
  },
  "latex_envs": {
   "LaTeX_envs_menu_present": true,
   "autoclose": false,
   "autocomplete": true,
   "bibliofile": "biblio.bib",
   "cite_by": "apalike",
   "current_citInitial": 1,
   "eqLabelWithNumbers": true,
   "eqNumInitial": 1,
   "hotkeys": {
    "equation": "Ctrl-E",
    "itemize": "Ctrl-I"
   },
   "labels_anchors": false,
   "latex_user_defs": false,
   "report_style_numbering": false,
   "user_envs_cfg": false
  }
 },
 "nbformat": 4,
 "nbformat_minor": 4
}