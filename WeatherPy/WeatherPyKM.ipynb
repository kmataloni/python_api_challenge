{
 "cells": [
  {
   "cell_type": "markdown",
   "metadata": {},
   "source": [
    "# WeatherPy\n",
    "----\n",
    "\n",
    "#### Note\n",
    "* Instructions have been included for each segment. You do not have to follow them exactly, but they are included to help you think through the steps."
   ]
  },
  {
   "cell_type": "code",
   "execution_count": 1,
   "metadata": {
    "scrolled": true
   },
   "outputs": [],
   "source": [
    "# Dependencies and Setup\n",
    "import matplotlib.pyplot as plt\n",
    "import pandas as pd\n",
    "import numpy as np\n",
    "import requests\n",
    "import time\n",
    "from scipy.stats import linregress\n",
    "from scipy import stats\n",
    "import pprint\n",
    "\n",
    "# Import API key\n",
    "from api_keys import weather_api_key\n",
    "\n",
    "# Incorporated citipy to determine city based on latitude and longitude\n",
    "from citipy import citipy"
   ]
  },
  {
   "cell_type": "code",
   "execution_count": 43,
   "metadata": {
    "scrolled": true
   },
   "outputs": [],
   "source": [
    "# Output File (CSV)\n",
    "output_data_file = \"../WeatherPy/cities.csv\""
   ]
  },
  {
   "cell_type": "code",
   "execution_count": null,
   "metadata": {},
   "outputs": [],
   "source": []
  },
  {
   "cell_type": "code",
   "execution_count": 3,
   "metadata": {
    "scrolled": true
   },
   "outputs": [],
   "source": [
    "# Range of latitudes and longitudes\n",
    "lat_range = (-90, 90)\n",
    "lng_range = (-180, 180)"
   ]
  },
  {
   "cell_type": "code",
   "execution_count": null,
   "metadata": {
    "scrolled": true
   },
   "outputs": [],
   "source": []
  },
  {
   "cell_type": "code",
   "execution_count": null,
   "metadata": {
    "scrolled": true
   },
   "outputs": [],
   "source": []
  },
  {
   "cell_type": "markdown",
   "metadata": {},
   "source": [
    "## Generate Cities List"
   ]
  },
  {
   "cell_type": "code",
   "execution_count": 4,
   "metadata": {},
   "outputs": [
    {
     "data": {
      "text/plain": [
       "77"
      ]
     },
     "execution_count": 4,
     "metadata": {},
     "output_type": "execute_result"
    }
   ],
   "source": [
    "# List for holding lat_lngs and cities\n",
    "lat_lngs = []\n",
    "cities = []\n",
    "\n",
    "# Create a set of random lat and lng combinations - reset size to 1500\n",
    "lats = np.random.uniform(lat_range[0], lat_range[1], size=100)\n",
    "lngs = np.random.uniform(lng_range[0], lng_range[1], size=100)\n",
    "lat_lngs = zip(lats, lngs)\n",
    "\n",
    "# Identify nearest city for each lat, lng combination\n",
    "for lat_lng in lat_lngs:\n",
    "    city = citipy.nearest_city(lat_lng[0], lat_lng[1]).city_name\n",
    "    \n",
    "    # If the city is unique, then add it to a our cities list\n",
    "    if city not in cities:\n",
    "        cities.append(city)\n",
    "\n",
    "# Print the city count to confirm sufficient count\n",
    "len(cities)"
   ]
  },
  {
   "cell_type": "code",
   "execution_count": 5,
   "metadata": {},
   "outputs": [
    {
     "data": {
      "text/plain": [
       "['portland',\n",
       " 'taolanaro',\n",
       " 'lisakovsk',\n",
       " 'rikitea',\n",
       " 'ruatoria',\n",
       " 'punta arenas',\n",
       " 'torbay',\n",
       " 'falealupo',\n",
       " 'laguna',\n",
       " 'bima',\n",
       " 'cape town',\n",
       " 'yellowknife',\n",
       " 'rorvik',\n",
       " 'albany',\n",
       " 'denpasar',\n",
       " 'ayios kirikos',\n",
       " 'busselton',\n",
       " 'newtownards',\n",
       " 'upernavik',\n",
       " 'rapid valley',\n",
       " 'samusu',\n",
       " 'atuona',\n",
       " 'loandjili',\n",
       " 'castro',\n",
       " 'longyearbyen',\n",
       " 'ribeira grande',\n",
       " 'butaritari',\n",
       " 'butterworth',\n",
       " 'andra',\n",
       " 'severo-kurilsk',\n",
       " 'vaini',\n",
       " 'auki',\n",
       " 'ushuaia',\n",
       " 'tsihombe',\n",
       " 'chapais',\n",
       " 'arraial do cabo',\n",
       " 'taunggyi',\n",
       " 'namibe',\n",
       " 'yar-sale',\n",
       " 'lebu',\n",
       " 'huarmey',\n",
       " 'mount gambier',\n",
       " 'westport',\n",
       " 'puerto ayacucho',\n",
       " 'hobart',\n",
       " 'mataura',\n",
       " 'maceio',\n",
       " 'saldanha',\n",
       " 'perelyub',\n",
       " 'vostok',\n",
       " 'yenagoa',\n",
       " 'port alfred',\n",
       " 'kapaa',\n",
       " 'belushya guba',\n",
       " 'jurado',\n",
       " 'bluff',\n",
       " 'saskylakh',\n",
       " 'tasiilaq',\n",
       " 'bendigo',\n",
       " 'jamestown',\n",
       " 'bethel',\n",
       " 'georgetown',\n",
       " 'urumqi',\n",
       " 'cherskiy',\n",
       " 'mar del plata',\n",
       " 'klaksvik',\n",
       " 'bredasdorp',\n",
       " 'puerto ayora',\n",
       " 'maple creek',\n",
       " 'tuktoyaktuk',\n",
       " 'malwan',\n",
       " 'pevek',\n",
       " 'paamiut',\n",
       " 'eureka',\n",
       " 'caravelas',\n",
       " 'tilichiki',\n",
       " 'nizhneyansk']"
      ]
     },
     "execution_count": 5,
     "metadata": {},
     "output_type": "execute_result"
    }
   ],
   "source": [
    "cities"
   ]
  },
  {
   "cell_type": "markdown",
   "metadata": {},
   "source": [
    "### Perform API Calls\n",
    "* Perform a weather check on each city using a series of successive API calls.\n",
    "* Include a print log of each city as it'sbeing processed (with the city number and city name).\n"
   ]
  },
  {
   "cell_type": "code",
   "execution_count": 44,
   "metadata": {
    "scrolled": true
   },
   "outputs": [],
   "source": [
    "# Save config information.\n",
    "url = \"http://api.openweathermap.org/data/2.5/weather?\"\n",
    "units = \"metric\"\n",
    "\n",
    "city = \"chicago\"\n",
    "\n",
    "\n",
    "# Build partial query URL\n",
    "# query_url = f\"{url}appid={weather_api_key}&units={units}&q={city}\"\n",
    "query_url = f\"{url}appid={weather_api_key}&units={units}&q=\"\n",
    "#print(query_url)\n",
    "\n",
    "# comment out URL query before pushing to github\n"
   ]
  },
  {
   "cell_type": "code",
   "execution_count": 45,
   "metadata": {},
   "outputs": [],
   "source": [
    "#cities = [\"Paris\", \"London\", \"Oslo\", \"Beijing\", \"Mumbai\", \"Manila\", \"New York\", \"Seattle\", \"Dallas\", \"Taipei\"]\n",
    "\n",
    "# set up lists to hold reponse info\n",
    "lat = []\n",
    "temp = []\n",
    "cloud = []\n",
    "wind_speed = []\n",
    "humidity = []\n",
    "country = []\n",
    "city_name = []\n",
    "lon = []\n",
    "\n",
    "# Loop through the list of cities and perform a request for data on each\n",
    "for city in cities:\n",
    "    complete_url = f'{query_url}{city}'\n",
    "    response = requests.get(complete_url).json()\n",
    "    #print(response)\n",
    "    try:\n",
    "        lat.append(response['coord']['lat'])\n",
    "        lon.append(response['coord']['lon'])\n",
    "        temp.append(response['main']['temp'])\n",
    "        cloud.append(response['clouds']['all'])\n",
    "        wind_speed.append(response['wind']['speed'])\n",
    "        humidity.append(response['main']['humidity'])\n",
    "        country.append(response['sys']['country'])\n",
    "        city_name.append(city)\n",
    "    except:\n",
    "        #print(\"City not found\")\n",
    "        pass\n",
    "        \n",
    "        \n",
    "        \n",
    "# print(f\"The latitude information received is: {lat}\")\n",
    "# print(f\"The temperature information received is: {temp}\")"
   ]
  },
  {
   "cell_type": "code",
   "execution_count": 46,
   "metadata": {},
   "outputs": [
    {
     "data": {
      "text/html": [
       "<div>\n",
       "<style scoped>\n",
       "    .dataframe tbody tr th:only-of-type {\n",
       "        vertical-align: middle;\n",
       "    }\n",
       "\n",
       "    .dataframe tbody tr th {\n",
       "        vertical-align: top;\n",
       "    }\n",
       "\n",
       "    .dataframe thead th {\n",
       "        text-align: right;\n",
       "    }\n",
       "</style>\n",
       "<table border=\"1\" class=\"dataframe\">\n",
       "  <thead>\n",
       "    <tr style=\"text-align: right;\">\n",
       "      <th></th>\n",
       "      <th>city</th>\n",
       "      <th>lat</th>\n",
       "      <th>lon</th>\n",
       "      <th>temp</th>\n",
       "      <th>cloud</th>\n",
       "      <th>wind speed</th>\n",
       "      <th>humidity</th>\n",
       "      <th>country</th>\n",
       "    </tr>\n",
       "  </thead>\n",
       "  <tbody>\n",
       "    <tr>\n",
       "      <th>0</th>\n",
       "      <td>portland</td>\n",
       "      <td>45.5234</td>\n",
       "      <td>-122.6762</td>\n",
       "      <td>33.73</td>\n",
       "      <td>1</td>\n",
       "      <td>0.45</td>\n",
       "      <td>40</td>\n",
       "      <td>US</td>\n",
       "    </tr>\n",
       "    <tr>\n",
       "      <th>1</th>\n",
       "      <td>lisakovsk</td>\n",
       "      <td>52.5369</td>\n",
       "      <td>62.4936</td>\n",
       "      <td>20.49</td>\n",
       "      <td>98</td>\n",
       "      <td>1.95</td>\n",
       "      <td>49</td>\n",
       "      <td>KZ</td>\n",
       "    </tr>\n",
       "    <tr>\n",
       "      <th>2</th>\n",
       "      <td>rikitea</td>\n",
       "      <td>-23.1203</td>\n",
       "      <td>-134.9692</td>\n",
       "      <td>23.08</td>\n",
       "      <td>40</td>\n",
       "      <td>1.77</td>\n",
       "      <td>74</td>\n",
       "      <td>PF</td>\n",
       "    </tr>\n",
       "    <tr>\n",
       "      <th>3</th>\n",
       "      <td>punta arenas</td>\n",
       "      <td>-53.1500</td>\n",
       "      <td>-70.9167</td>\n",
       "      <td>5.06</td>\n",
       "      <td>0</td>\n",
       "      <td>1.54</td>\n",
       "      <td>81</td>\n",
       "      <td>CL</td>\n",
       "    </tr>\n",
       "    <tr>\n",
       "      <th>4</th>\n",
       "      <td>torbay</td>\n",
       "      <td>47.6666</td>\n",
       "      <td>-52.7314</td>\n",
       "      <td>8.19</td>\n",
       "      <td>20</td>\n",
       "      <td>3.60</td>\n",
       "      <td>89</td>\n",
       "      <td>CA</td>\n",
       "    </tr>\n",
       "    <tr>\n",
       "      <th>...</th>\n",
       "      <td>...</td>\n",
       "      <td>...</td>\n",
       "      <td>...</td>\n",
       "      <td>...</td>\n",
       "      <td>...</td>\n",
       "      <td>...</td>\n",
       "      <td>...</td>\n",
       "      <td>...</td>\n",
       "    </tr>\n",
       "    <tr>\n",
       "      <th>63</th>\n",
       "      <td>pevek</td>\n",
       "      <td>69.7008</td>\n",
       "      <td>170.3133</td>\n",
       "      <td>0.61</td>\n",
       "      <td>9</td>\n",
       "      <td>6.51</td>\n",
       "      <td>83</td>\n",
       "      <td>RU</td>\n",
       "    </tr>\n",
       "    <tr>\n",
       "      <th>64</th>\n",
       "      <td>paamiut</td>\n",
       "      <td>61.9940</td>\n",
       "      <td>-49.6678</td>\n",
       "      <td>4.84</td>\n",
       "      <td>100</td>\n",
       "      <td>6.49</td>\n",
       "      <td>87</td>\n",
       "      <td>GL</td>\n",
       "    </tr>\n",
       "    <tr>\n",
       "      <th>65</th>\n",
       "      <td>eureka</td>\n",
       "      <td>40.8021</td>\n",
       "      <td>-124.1637</td>\n",
       "      <td>20.99</td>\n",
       "      <td>4</td>\n",
       "      <td>2.68</td>\n",
       "      <td>72</td>\n",
       "      <td>US</td>\n",
       "    </tr>\n",
       "    <tr>\n",
       "      <th>66</th>\n",
       "      <td>caravelas</td>\n",
       "      <td>-17.7125</td>\n",
       "      <td>-39.2481</td>\n",
       "      <td>21.59</td>\n",
       "      <td>0</td>\n",
       "      <td>2.16</td>\n",
       "      <td>87</td>\n",
       "      <td>BR</td>\n",
       "    </tr>\n",
       "    <tr>\n",
       "      <th>67</th>\n",
       "      <td>tilichiki</td>\n",
       "      <td>60.4667</td>\n",
       "      <td>166.1000</td>\n",
       "      <td>17.42</td>\n",
       "      <td>7</td>\n",
       "      <td>7.16</td>\n",
       "      <td>44</td>\n",
       "      <td>RU</td>\n",
       "    </tr>\n",
       "  </tbody>\n",
       "</table>\n",
       "<p>68 rows × 8 columns</p>\n",
       "</div>"
      ],
      "text/plain": [
       "            city      lat       lon   temp  cloud  wind speed  humidity  \\\n",
       "0       portland  45.5234 -122.6762  33.73      1        0.45        40   \n",
       "1      lisakovsk  52.5369   62.4936  20.49     98        1.95        49   \n",
       "2        rikitea -23.1203 -134.9692  23.08     40        1.77        74   \n",
       "3   punta arenas -53.1500  -70.9167   5.06      0        1.54        81   \n",
       "4         torbay  47.6666  -52.7314   8.19     20        3.60        89   \n",
       "..           ...      ...       ...    ...    ...         ...       ...   \n",
       "63         pevek  69.7008  170.3133   0.61      9        6.51        83   \n",
       "64       paamiut  61.9940  -49.6678   4.84    100        6.49        87   \n",
       "65        eureka  40.8021 -124.1637  20.99      4        2.68        72   \n",
       "66     caravelas -17.7125  -39.2481  21.59      0        2.16        87   \n",
       "67     tilichiki  60.4667  166.1000  17.42      7        7.16        44   \n",
       "\n",
       "   country  \n",
       "0       US  \n",
       "1       KZ  \n",
       "2       PF  \n",
       "3       CL  \n",
       "4       CA  \n",
       "..     ...  \n",
       "63      RU  \n",
       "64      GL  \n",
       "65      US  \n",
       "66      BR  \n",
       "67      RU  \n",
       "\n",
       "[68 rows x 8 columns]"
      ]
     },
     "execution_count": 46,
     "metadata": {},
     "output_type": "execute_result"
    }
   ],
   "source": [
    "# create a data frame from cities, lat, and temp\n",
    "weather_dict = {\n",
    "    \"city\": city_name,\n",
    "    \"lat\": lat,\n",
    "    \"lon\": lon,\n",
    "    \"temp\": temp,\n",
    "    \"cloud\": cloud,\n",
    "    \"wind speed\": wind_speed,\n",
    "    \"humidity\": humidity,\n",
    "    \"country\": country\n",
    "}\n",
    "weather_data = pd.DataFrame(weather_dict)\n",
    "weather_data"
   ]
  },
  {
   "cell_type": "markdown",
   "metadata": {},
   "source": [
    "### Convert Raw Data to DataFrame\n",
    "* Export the city data into a .csv.\n",
    "* Display the DataFrame"
   ]
  },
  {
   "cell_type": "code",
   "execution_count": 47,
   "metadata": {},
   "outputs": [],
   "source": [
    "weather_data.to_csv(output_data_file, index = False)"
   ]
  },
  {
   "cell_type": "code",
   "execution_count": null,
   "metadata": {},
   "outputs": [],
   "source": []
  },
  {
   "cell_type": "code",
   "execution_count": 10,
   "metadata": {},
   "outputs": [
    {
     "data": {
      "text/plain": [
       "0     False\n",
       "1     False\n",
       "2     False\n",
       "3     False\n",
       "4     False\n",
       "      ...  \n",
       "63    False\n",
       "64    False\n",
       "65    False\n",
       "66    False\n",
       "67    False\n",
       "Name: humidity, Length: 68, dtype: bool"
      ]
     },
     "execution_count": 10,
     "metadata": {},
     "output_type": "execute_result"
    }
   ],
   "source": [
    "(weather_data[\"humidity\"]>100)"
   ]
  },
  {
   "cell_type": "markdown",
   "metadata": {},
   "source": [
    "## Inspect the data and remove the cities where the humidity > 100%.\n",
    "----\n",
    "Skip this step if there are no cities that have humidity > 100%. "
   ]
  },
  {
   "cell_type": "code",
   "execution_count": null,
   "metadata": {},
   "outputs": [],
   "source": []
  },
  {
   "cell_type": "code",
   "execution_count": 11,
   "metadata": {},
   "outputs": [
    {
     "data": {
      "text/plain": [
       "Int64Index([], dtype='int64')"
      ]
     },
     "execution_count": 11,
     "metadata": {},
     "output_type": "execute_result"
    }
   ],
   "source": [
    "#  Get the indices of cities that have humidity over 100%.\n",
    "high_humidity = weather_data[(weather_data[\"humidity\"]>100)].index\n",
    "high_humidity"
   ]
  },
  {
   "cell_type": "code",
   "execution_count": 12,
   "metadata": {},
   "outputs": [
    {
     "name": "stdout",
     "output_type": "stream",
     "text": [
      "<class 'pandas.core.frame.DataFrame'>\n",
      "Int64Index: 68 entries, 0 to 67\n",
      "Data columns (total 8 columns):\n",
      " #   Column      Non-Null Count  Dtype  \n",
      "---  ------      --------------  -----  \n",
      " 0   city        68 non-null     object \n",
      " 1   lat         68 non-null     float64\n",
      " 2   lon         68 non-null     float64\n",
      " 3   temp        68 non-null     float64\n",
      " 4   cloud       68 non-null     int64  \n",
      " 5   wind speed  68 non-null     float64\n",
      " 6   humidity    68 non-null     int64  \n",
      " 7   country     68 non-null     object \n",
      "dtypes: float64(4), int64(2), object(2)\n",
      "memory usage: 4.8+ KB\n"
     ]
    }
   ],
   "source": [
    "# Make a new DataFrame equal to the city data to drop all humidity outliers by index.\n",
    "# Passing \"inplace=False\" will make a copy of the city_data DataFrame, which we call \"clean_city_data\".\n",
    "clean_city_data = weather_data.drop(high_humidity)\n",
    "clean_city_data.info()"
   ]
  },
  {
   "cell_type": "code",
   "execution_count": null,
   "metadata": {},
   "outputs": [],
   "source": [
    "\n"
   ]
  },
  {
   "cell_type": "markdown",
   "metadata": {},
   "source": [
    "## Plotting the Data\n",
    "* Use proper labeling of the plots using plot titles (including date of analysis) and axes labels.\n",
    "* Save the plotted figures as .pngs."
   ]
  },
  {
   "cell_type": "markdown",
   "metadata": {},
   "source": [
    "## Latitude vs. Temperature Plot"
   ]
  },
  {
   "cell_type": "code",
   "execution_count": 13,
   "metadata": {
    "scrolled": true
   },
   "outputs": [
    {
     "data": {
      "image/png": "[encoded data removed]",
      "text/plain": [
       "<Figure size 432x288 with 1 Axes>"
      ]
     },
     "metadata": {
      "needs_background": "light"
     },
     "output_type": "display_data"
    }
   ],
   "source": [
    "# Create a Scatter Plot for temperature vs latitude\n",
    "x_values = weather_data['lat']\n",
    "y_values = weather_data['temp']\n",
    "plt.scatter(x_values,y_values)\n",
    "plt.xlabel('Latitude')\n",
    "plt.ylabel('Temperature')\n",
    "plt.show()"
   ]
  },
  {
   "cell_type": "code",
   "execution_count": 14,
   "metadata": {},
   "outputs": [],
   "source": [
    "# Perform a linear regression on temperature vs. latitude\n",
    "(slope, intercept, rvalue, pvalue, stderr) = stats.linregress(x_values, y_values)\n",
    "\n",
    "# Get regression values\n",
    "#regress_values = x_values * slope + intercept\n",
    "#print(regress_values)"
   ]
  },
  {
   "cell_type": "code",
   "execution_count": 15,
   "metadata": {},
   "outputs": [],
   "source": [
    "# Create line equation string\n",
    "#line_eq = \"y = \" + str(round(slope,2)) + \"x +\" + str(round(intercept,2))\n",
    "#print(line_eq)"
   ]
  },
  {
   "cell_type": "code",
   "execution_count": 16,
   "metadata": {},
   "outputs": [
    {
     "name": "stdout",
     "output_type": "stream",
     "text": [
      "The r-value is: 0.0021777959041574734\n"
     ]
    }
   ],
   "source": [
    "# Create Plot\n",
    "#plt.scatter(x_values,y_values)\n",
    "#plt.plot(x_values,regress_values,\"r-\")\n",
    "\n",
    "# # Label plot and annotate the line equation\n",
    "#plt.xlabel('Latitude')\n",
    "#plt.ylabel('Temperature')\n",
    "#plt.annotate(line_eq,(20,15),fontsize=15,color=\"red\")\n",
    "\n",
    "# # Print r value\n",
    "print(f\"The r-value is: {rvalue**2}\")\n",
    "\n",
    "# # Show plot\n",
    "#plt.show()"
   ]
  },
  {
   "cell_type": "markdown",
   "metadata": {},
   "source": [
    "## Latitude vs. Humidity Plot"
   ]
  },
  {
   "cell_type": "code",
   "execution_count": 17,
   "metadata": {},
   "outputs": [
    {
     "data": {
      "image/png": "[encoded data removed]",
      "text/plain": [
       "<Figure size 432x288 with 1 Axes>"
      ]
     },
     "metadata": {
      "needs_background": "light"
     },
     "output_type": "display_data"
    }
   ],
   "source": [
    "x_values = weather_data['lat']\n",
    "y_values = weather_data['humidity']\n",
    "plt.scatter(x_values,y_values)\n",
    "plt.xlabel('Latitude')\n",
    "plt.ylabel('Humidity')\n",
    "plt.show()"
   ]
  },
  {
   "cell_type": "markdown",
   "metadata": {},
   "source": [
    "## Latitude vs. Cloudiness Plot"
   ]
  },
  {
   "cell_type": "code",
   "execution_count": 18,
   "metadata": {},
   "outputs": [
    {
     "data": {
      "image/png": "[encoded data removed]",
      "text/plain": [
       "<Figure size 432x288 with 1 Axes>"
      ]
     },
     "metadata": {
      "needs_background": "light"
     },
     "output_type": "display_data"
    }
   ],
   "source": [
    "x_values = weather_data['lat']\n",
    "y_values = weather_data['cloud']\n",
    "plt.scatter(x_values,y_values)\n",
    "plt.xlabel('Latitude')\n",
    "plt.ylabel('Cloudiness')\n",
    "plt.show()"
   ]
  },
  {
   "cell_type": "markdown",
   "metadata": {},
   "source": [
    "## Latitude vs. Wind Speed Plot"
   ]
  },
  {
   "cell_type": "code",
   "execution_count": 19,
   "metadata": {},
   "outputs": [
    {
     "data": {
      "image/png": "[encoded data removed]",
      "text/plain": [
       "<Figure size 432x288 with 1 Axes>"
      ]
     },
     "metadata": {
      "needs_background": "light"
     },
     "output_type": "display_data"
    }
   ],
   "source": [
    "x_values = weather_data['lat']\n",
    "y_values = weather_data['wind speed']\n",
    "plt.scatter(x_values,y_values)\n",
    "plt.xlabel('Latitude')\n",
    "plt.ylabel('Wind Speed')\n",
    "plt.show()"
   ]
  },
  {
   "cell_type": "markdown",
   "metadata": {},
   "source": [
    "## Linear Regression"
   ]
  },
  {
   "cell_type": "code",
   "execution_count": null,
   "metadata": {},
   "outputs": [],
   "source": []
  },
  {
   "cell_type": "markdown",
   "metadata": {},
   "source": [
    "Northern Hemisphere - Max Temp vs. Latitude Linear Regression"
   ]
  },
  {
   "cell_type": "code",
   "execution_count": 20,
   "metadata": {},
   "outputs": [
    {
     "data": {
      "text/plain": [
       "0      True\n",
       "1      True\n",
       "2     False\n",
       "3     False\n",
       "4      True\n",
       "      ...  \n",
       "63     True\n",
       "64     True\n",
       "65     True\n",
       "66    False\n",
       "67     True\n",
       "Name: lat, Length: 68, dtype: bool"
      ]
     },
     "execution_count": 20,
     "metadata": {},
     "output_type": "execute_result"
    }
   ],
   "source": [
    "weather_data[\"lat\"] >0"
   ]
  },
  {
   "cell_type": "code",
   "execution_count": 21,
   "metadata": {},
   "outputs": [
    {
     "data": {
      "text/html": [
       "<div>\n",
       "<style scoped>\n",
       "    .dataframe tbody tr th:only-of-type {\n",
       "        vertical-align: middle;\n",
       "    }\n",
       "\n",
       "    .dataframe tbody tr th {\n",
       "        vertical-align: top;\n",
       "    }\n",
       "\n",
       "    .dataframe thead th {\n",
       "        text-align: right;\n",
       "    }\n",
       "</style>\n",
       "<table border=\"1\" class=\"dataframe\">\n",
       "  <thead>\n",
       "    <tr style=\"text-align: right;\">\n",
       "      <th></th>\n",
       "      <th>city</th>\n",
       "      <th>lat</th>\n",
       "      <th>lon</th>\n",
       "      <th>temp</th>\n",
       "      <th>cloud</th>\n",
       "      <th>wind speed</th>\n",
       "      <th>humidity</th>\n",
       "      <th>country</th>\n",
       "    </tr>\n",
       "  </thead>\n",
       "  <tbody>\n",
       "    <tr>\n",
       "      <th>0</th>\n",
       "      <td>portland</td>\n",
       "      <td>45.5234</td>\n",
       "      <td>-122.6762</td>\n",
       "      <td>33.73</td>\n",
       "      <td>1</td>\n",
       "      <td>0.45</td>\n",
       "      <td>40</td>\n",
       "      <td>US</td>\n",
       "    </tr>\n",
       "    <tr>\n",
       "      <th>1</th>\n",
       "      <td>lisakovsk</td>\n",
       "      <td>52.5369</td>\n",
       "      <td>62.4936</td>\n",
       "      <td>20.49</td>\n",
       "      <td>98</td>\n",
       "      <td>1.95</td>\n",
       "      <td>49</td>\n",
       "      <td>KZ</td>\n",
       "    </tr>\n",
       "    <tr>\n",
       "      <th>4</th>\n",
       "      <td>torbay</td>\n",
       "      <td>47.6666</td>\n",
       "      <td>-52.7314</td>\n",
       "      <td>8.28</td>\n",
       "      <td>20</td>\n",
       "      <td>3.60</td>\n",
       "      <td>88</td>\n",
       "      <td>CA</td>\n",
       "    </tr>\n",
       "    <tr>\n",
       "      <th>5</th>\n",
       "      <td>laguna</td>\n",
       "      <td>38.4210</td>\n",
       "      <td>-121.4238</td>\n",
       "      <td>36.67</td>\n",
       "      <td>1</td>\n",
       "      <td>1.79</td>\n",
       "      <td>31</td>\n",
       "      <td>US</td>\n",
       "    </tr>\n",
       "    <tr>\n",
       "      <th>8</th>\n",
       "      <td>yellowknife</td>\n",
       "      <td>62.4560</td>\n",
       "      <td>-114.3525</td>\n",
       "      <td>27.49</td>\n",
       "      <td>20</td>\n",
       "      <td>1.79</td>\n",
       "      <td>39</td>\n",
       "      <td>CA</td>\n",
       "    </tr>\n",
       "    <tr>\n",
       "      <th>9</th>\n",
       "      <td>rorvik</td>\n",
       "      <td>64.8621</td>\n",
       "      <td>11.2373</td>\n",
       "      <td>9.45</td>\n",
       "      <td>55</td>\n",
       "      <td>6.12</td>\n",
       "      <td>73</td>\n",
       "      <td>NO</td>\n",
       "    </tr>\n",
       "    <tr>\n",
       "      <th>10</th>\n",
       "      <td>albany</td>\n",
       "      <td>42.6001</td>\n",
       "      <td>-73.9662</td>\n",
       "      <td>27.59</td>\n",
       "      <td>16</td>\n",
       "      <td>2.08</td>\n",
       "      <td>78</td>\n",
       "      <td>US</td>\n",
       "    </tr>\n",
       "    <tr>\n",
       "      <th>13</th>\n",
       "      <td>newtownards</td>\n",
       "      <td>54.5924</td>\n",
       "      <td>-5.6909</td>\n",
       "      <td>11.23</td>\n",
       "      <td>4</td>\n",
       "      <td>0.45</td>\n",
       "      <td>92</td>\n",
       "      <td>GB</td>\n",
       "    </tr>\n",
       "    <tr>\n",
       "      <th>14</th>\n",
       "      <td>upernavik</td>\n",
       "      <td>72.7868</td>\n",
       "      <td>-56.1549</td>\n",
       "      <td>1.81</td>\n",
       "      <td>56</td>\n",
       "      <td>5.58</td>\n",
       "      <td>89</td>\n",
       "      <td>GL</td>\n",
       "    </tr>\n",
       "    <tr>\n",
       "      <th>15</th>\n",
       "      <td>rapid valley</td>\n",
       "      <td>44.0625</td>\n",
       "      <td>-103.1463</td>\n",
       "      <td>28.80</td>\n",
       "      <td>1</td>\n",
       "      <td>0.45</td>\n",
       "      <td>30</td>\n",
       "      <td>US</td>\n",
       "    </tr>\n",
       "    <tr>\n",
       "      <th>19</th>\n",
       "      <td>longyearbyen</td>\n",
       "      <td>78.2186</td>\n",
       "      <td>15.6401</td>\n",
       "      <td>3.91</td>\n",
       "      <td>75</td>\n",
       "      <td>7.72</td>\n",
       "      <td>87</td>\n",
       "      <td>SJ</td>\n",
       "    </tr>\n",
       "    <tr>\n",
       "      <th>20</th>\n",
       "      <td>ribeira grande</td>\n",
       "      <td>38.5167</td>\n",
       "      <td>-28.7000</td>\n",
       "      <td>20.26</td>\n",
       "      <td>79</td>\n",
       "      <td>8.51</td>\n",
       "      <td>84</td>\n",
       "      <td>PT</td>\n",
       "    </tr>\n",
       "    <tr>\n",
       "      <th>21</th>\n",
       "      <td>butaritari</td>\n",
       "      <td>3.0707</td>\n",
       "      <td>172.7902</td>\n",
       "      <td>28.27</td>\n",
       "      <td>66</td>\n",
       "      <td>5.62</td>\n",
       "      <td>71</td>\n",
       "      <td>KI</td>\n",
       "    </tr>\n",
       "    <tr>\n",
       "      <th>22</th>\n",
       "      <td>butterworth</td>\n",
       "      <td>5.3991</td>\n",
       "      <td>100.3638</td>\n",
       "      <td>23.50</td>\n",
       "      <td>20</td>\n",
       "      <td>0.00</td>\n",
       "      <td>93</td>\n",
       "      <td>MY</td>\n",
       "    </tr>\n",
       "    <tr>\n",
       "      <th>23</th>\n",
       "      <td>andra</td>\n",
       "      <td>62.5147</td>\n",
       "      <td>65.8878</td>\n",
       "      <td>13.87</td>\n",
       "      <td>99</td>\n",
       "      <td>1.82</td>\n",
       "      <td>93</td>\n",
       "      <td>RU</td>\n",
       "    </tr>\n",
       "    <tr>\n",
       "      <th>24</th>\n",
       "      <td>severo-kurilsk</td>\n",
       "      <td>50.6789</td>\n",
       "      <td>156.1250</td>\n",
       "      <td>8.54</td>\n",
       "      <td>89</td>\n",
       "      <td>0.68</td>\n",
       "      <td>89</td>\n",
       "      <td>RU</td>\n",
       "    </tr>\n",
       "    <tr>\n",
       "      <th>28</th>\n",
       "      <td>chapais</td>\n",
       "      <td>49.7834</td>\n",
       "      <td>-74.8492</td>\n",
       "      <td>22.88</td>\n",
       "      <td>99</td>\n",
       "      <td>2.58</td>\n",
       "      <td>61</td>\n",
       "      <td>CA</td>\n",
       "    </tr>\n",
       "    <tr>\n",
       "      <th>30</th>\n",
       "      <td>taunggyi</td>\n",
       "      <td>20.7833</td>\n",
       "      <td>97.0333</td>\n",
       "      <td>17.08</td>\n",
       "      <td>100</td>\n",
       "      <td>2.54</td>\n",
       "      <td>98</td>\n",
       "      <td>MM</td>\n",
       "    </tr>\n",
       "    <tr>\n",
       "      <th>32</th>\n",
       "      <td>yar-sale</td>\n",
       "      <td>66.8333</td>\n",
       "      <td>70.8333</td>\n",
       "      <td>12.86</td>\n",
       "      <td>89</td>\n",
       "      <td>1.38</td>\n",
       "      <td>49</td>\n",
       "      <td>RU</td>\n",
       "    </tr>\n",
       "    <tr>\n",
       "      <th>36</th>\n",
       "      <td>westport</td>\n",
       "      <td>41.1415</td>\n",
       "      <td>-73.3579</td>\n",
       "      <td>28.94</td>\n",
       "      <td>1</td>\n",
       "      <td>0.45</td>\n",
       "      <td>74</td>\n",
       "      <td>US</td>\n",
       "    </tr>\n",
       "    <tr>\n",
       "      <th>37</th>\n",
       "      <td>puerto ayacucho</td>\n",
       "      <td>5.6639</td>\n",
       "      <td>-67.6236</td>\n",
       "      <td>24.73</td>\n",
       "      <td>57</td>\n",
       "      <td>1.79</td>\n",
       "      <td>87</td>\n",
       "      <td>VE</td>\n",
       "    </tr>\n",
       "    <tr>\n",
       "      <th>42</th>\n",
       "      <td>perelyub</td>\n",
       "      <td>51.8667</td>\n",
       "      <td>50.3667</td>\n",
       "      <td>20.80</td>\n",
       "      <td>93</td>\n",
       "      <td>1.22</td>\n",
       "      <td>86</td>\n",
       "      <td>RU</td>\n",
       "    </tr>\n",
       "    <tr>\n",
       "      <th>43</th>\n",
       "      <td>vostok</td>\n",
       "      <td>46.4856</td>\n",
       "      <td>135.8833</td>\n",
       "      <td>14.22</td>\n",
       "      <td>100</td>\n",
       "      <td>0.87</td>\n",
       "      <td>93</td>\n",
       "      <td>RU</td>\n",
       "    </tr>\n",
       "    <tr>\n",
       "      <th>44</th>\n",
       "      <td>yenagoa</td>\n",
       "      <td>4.9247</td>\n",
       "      <td>6.2642</td>\n",
       "      <td>23.01</td>\n",
       "      <td>100</td>\n",
       "      <td>1.52</td>\n",
       "      <td>96</td>\n",
       "      <td>NG</td>\n",
       "    </tr>\n",
       "    <tr>\n",
       "      <th>46</th>\n",
       "      <td>kapaa</td>\n",
       "      <td>22.0752</td>\n",
       "      <td>-159.3190</td>\n",
       "      <td>29.15</td>\n",
       "      <td>40</td>\n",
       "      <td>1.34</td>\n",
       "      <td>73</td>\n",
       "      <td>US</td>\n",
       "    </tr>\n",
       "    <tr>\n",
       "      <th>47</th>\n",
       "      <td>jurado</td>\n",
       "      <td>7.1053</td>\n",
       "      <td>-77.7641</td>\n",
       "      <td>26.24</td>\n",
       "      <td>93</td>\n",
       "      <td>1.88</td>\n",
       "      <td>87</td>\n",
       "      <td>CO</td>\n",
       "    </tr>\n",
       "    <tr>\n",
       "      <th>49</th>\n",
       "      <td>saskylakh</td>\n",
       "      <td>71.9167</td>\n",
       "      <td>114.0833</td>\n",
       "      <td>11.81</td>\n",
       "      <td>97</td>\n",
       "      <td>5.79</td>\n",
       "      <td>44</td>\n",
       "      <td>RU</td>\n",
       "    </tr>\n",
       "    <tr>\n",
       "      <th>50</th>\n",
       "      <td>tasiilaq</td>\n",
       "      <td>65.6145</td>\n",
       "      <td>-37.6368</td>\n",
       "      <td>4.09</td>\n",
       "      <td>97</td>\n",
       "      <td>1.62</td>\n",
       "      <td>98</td>\n",
       "      <td>GL</td>\n",
       "    </tr>\n",
       "    <tr>\n",
       "      <th>52</th>\n",
       "      <td>jamestown</td>\n",
       "      <td>42.0970</td>\n",
       "      <td>-79.2353</td>\n",
       "      <td>25.66</td>\n",
       "      <td>75</td>\n",
       "      <td>3.09</td>\n",
       "      <td>78</td>\n",
       "      <td>US</td>\n",
       "    </tr>\n",
       "    <tr>\n",
       "      <th>53</th>\n",
       "      <td>bethel</td>\n",
       "      <td>41.3712</td>\n",
       "      <td>-73.4140</td>\n",
       "      <td>29.12</td>\n",
       "      <td>1</td>\n",
       "      <td>4.12</td>\n",
       "      <td>63</td>\n",
       "      <td>US</td>\n",
       "    </tr>\n",
       "    <tr>\n",
       "      <th>54</th>\n",
       "      <td>georgetown</td>\n",
       "      <td>5.4112</td>\n",
       "      <td>100.3354</td>\n",
       "      <td>23.84</td>\n",
       "      <td>20</td>\n",
       "      <td>0.00</td>\n",
       "      <td>92</td>\n",
       "      <td>MY</td>\n",
       "    </tr>\n",
       "    <tr>\n",
       "      <th>55</th>\n",
       "      <td>urumqi</td>\n",
       "      <td>43.8010</td>\n",
       "      <td>87.6005</td>\n",
       "      <td>21.53</td>\n",
       "      <td>0</td>\n",
       "      <td>4.00</td>\n",
       "      <td>31</td>\n",
       "      <td>CN</td>\n",
       "    </tr>\n",
       "    <tr>\n",
       "      <th>56</th>\n",
       "      <td>cherskiy</td>\n",
       "      <td>68.7500</td>\n",
       "      <td>161.3000</td>\n",
       "      <td>9.10</td>\n",
       "      <td>100</td>\n",
       "      <td>7.89</td>\n",
       "      <td>45</td>\n",
       "      <td>RU</td>\n",
       "    </tr>\n",
       "    <tr>\n",
       "      <th>58</th>\n",
       "      <td>klaksvik</td>\n",
       "      <td>62.2266</td>\n",
       "      <td>-6.5890</td>\n",
       "      <td>8.51</td>\n",
       "      <td>100</td>\n",
       "      <td>3.01</td>\n",
       "      <td>93</td>\n",
       "      <td>FO</td>\n",
       "    </tr>\n",
       "    <tr>\n",
       "      <th>61</th>\n",
       "      <td>maple creek</td>\n",
       "      <td>49.9168</td>\n",
       "      <td>-109.4848</td>\n",
       "      <td>33.62</td>\n",
       "      <td>1</td>\n",
       "      <td>3.60</td>\n",
       "      <td>17</td>\n",
       "      <td>CA</td>\n",
       "    </tr>\n",
       "    <tr>\n",
       "      <th>62</th>\n",
       "      <td>tuktoyaktuk</td>\n",
       "      <td>69.4541</td>\n",
       "      <td>-133.0374</td>\n",
       "      <td>16.00</td>\n",
       "      <td>75</td>\n",
       "      <td>3.09</td>\n",
       "      <td>63</td>\n",
       "      <td>CA</td>\n",
       "    </tr>\n",
       "    <tr>\n",
       "      <th>63</th>\n",
       "      <td>pevek</td>\n",
       "      <td>69.7008</td>\n",
       "      <td>170.3133</td>\n",
       "      <td>0.61</td>\n",
       "      <td>9</td>\n",
       "      <td>6.51</td>\n",
       "      <td>83</td>\n",
       "      <td>RU</td>\n",
       "    </tr>\n",
       "    <tr>\n",
       "      <th>64</th>\n",
       "      <td>paamiut</td>\n",
       "      <td>61.9940</td>\n",
       "      <td>-49.6678</td>\n",
       "      <td>4.84</td>\n",
       "      <td>100</td>\n",
       "      <td>6.49</td>\n",
       "      <td>87</td>\n",
       "      <td>GL</td>\n",
       "    </tr>\n",
       "    <tr>\n",
       "      <th>65</th>\n",
       "      <td>eureka</td>\n",
       "      <td>40.8021</td>\n",
       "      <td>-124.1637</td>\n",
       "      <td>20.99</td>\n",
       "      <td>4</td>\n",
       "      <td>2.68</td>\n",
       "      <td>72</td>\n",
       "      <td>US</td>\n",
       "    </tr>\n",
       "    <tr>\n",
       "      <th>67</th>\n",
       "      <td>tilichiki</td>\n",
       "      <td>60.4667</td>\n",
       "      <td>166.1000</td>\n",
       "      <td>17.42</td>\n",
       "      <td>7</td>\n",
       "      <td>7.16</td>\n",
       "      <td>44</td>\n",
       "      <td>RU</td>\n",
       "    </tr>\n",
       "  </tbody>\n",
       "</table>\n",
       "</div>"
      ],
      "text/plain": [
       "               city      lat       lon   temp  cloud  wind speed  humidity  \\\n",
       "0          portland  45.5234 -122.6762  33.73      1        0.45        40   \n",
       "1         lisakovsk  52.5369   62.4936  20.49     98        1.95        49   \n",
       "4            torbay  47.6666  -52.7314   8.28     20        3.60        88   \n",
       "5            laguna  38.4210 -121.4238  36.67      1        1.79        31   \n",
       "8       yellowknife  62.4560 -114.3525  27.49     20        1.79        39   \n",
       "9            rorvik  64.8621   11.2373   9.45     55        6.12        73   \n",
       "10           albany  42.6001  -73.9662  27.59     16        2.08        78   \n",
       "13      newtownards  54.5924   -5.6909  11.23      4        0.45        92   \n",
       "14        upernavik  72.7868  -56.1549   1.81     56        5.58        89   \n",
       "15     rapid valley  44.0625 -103.1463  28.80      1        0.45        30   \n",
       "19     longyearbyen  78.2186   15.6401   3.91     75        7.72        87   \n",
       "20   ribeira grande  38.5167  -28.7000  20.26     79        8.51        84   \n",
       "21       butaritari   3.0707  172.7902  28.27     66        5.62        71   \n",
       "22      butterworth   5.3991  100.3638  23.50     20        0.00        93   \n",
       "23            andra  62.5147   65.8878  13.87     99        1.82        93   \n",
       "24   severo-kurilsk  50.6789  156.1250   8.54     89        0.68        89   \n",
       "28          chapais  49.7834  -74.8492  22.88     99        2.58        61   \n",
       "30         taunggyi  20.7833   97.0333  17.08    100        2.54        98   \n",
       "32         yar-sale  66.8333   70.8333  12.86     89        1.38        49   \n",
       "36         westport  41.1415  -73.3579  28.94      1        0.45        74   \n",
       "37  puerto ayacucho   5.6639  -67.6236  24.73     57        1.79        87   \n",
       "42         perelyub  51.8667   50.3667  20.80     93        1.22        86   \n",
       "43           vostok  46.4856  135.8833  14.22    100        0.87        93   \n",
       "44          yenagoa   4.9247    6.2642  23.01    100        1.52        96   \n",
       "46            kapaa  22.0752 -159.3190  29.15     40        1.34        73   \n",
       "47           jurado   7.1053  -77.7641  26.24     93        1.88        87   \n",
       "49        saskylakh  71.9167  114.0833  11.81     97        5.79        44   \n",
       "50         tasiilaq  65.6145  -37.6368   4.09     97        1.62        98   \n",
       "52        jamestown  42.0970  -79.2353  25.66     75        3.09        78   \n",
       "53           bethel  41.3712  -73.4140  29.12      1        4.12        63   \n",
       "54       georgetown   5.4112  100.3354  23.84     20        0.00        92   \n",
       "55           urumqi  43.8010   87.6005  21.53      0        4.00        31   \n",
       "56         cherskiy  68.7500  161.3000   9.10    100        7.89        45   \n",
       "58         klaksvik  62.2266   -6.5890   8.51    100        3.01        93   \n",
       "61      maple creek  49.9168 -109.4848  33.62      1        3.60        17   \n",
       "62      tuktoyaktuk  69.4541 -133.0374  16.00     75        3.09        63   \n",
       "63            pevek  69.7008  170.3133   0.61      9        6.51        83   \n",
       "64          paamiut  61.9940  -49.6678   4.84    100        6.49        87   \n",
       "65           eureka  40.8021 -124.1637  20.99      4        2.68        72   \n",
       "67        tilichiki  60.4667  166.1000  17.42      7        7.16        44   \n",
       "\n",
       "   country  \n",
       "0       US  \n",
       "1       KZ  \n",
       "4       CA  \n",
       "5       US  \n",
       "8       CA  \n",
       "9       NO  \n",
       "10      US  \n",
       "13      GB  \n",
       "14      GL  \n",
       "15      US  \n",
       "19      SJ  \n",
       "20      PT  \n",
       "21      KI  \n",
       "22      MY  \n",
       "23      RU  \n",
       "24      RU  \n",
       "28      CA  \n",
       "30      MM  \n",
       "32      RU  \n",
       "36      US  \n",
       "37      VE  \n",
       "42      RU  \n",
       "43      RU  \n",
       "44      NG  \n",
       "46      US  \n",
       "47      CO  \n",
       "49      RU  \n",
       "50      GL  \n",
       "52      US  \n",
       "53      US  \n",
       "54      MY  \n",
       "55      CN  \n",
       "56      RU  \n",
       "58      FO  \n",
       "61      CA  \n",
       "62      CA  \n",
       "63      RU  \n",
       "64      GL  \n",
       "65      US  \n",
       "67      RU  "
      ]
     },
     "execution_count": 21,
     "metadata": {},
     "output_type": "execute_result"
    }
   ],
   "source": [
    "#find max temp of lats > 0\n",
    "north_weather_data = weather_data.loc[(weather_data[\"lat\"] >0)]\n",
    "north_weather_data\n"
   ]
  },
  {
   "cell_type": "code",
   "execution_count": 22,
   "metadata": {},
   "outputs": [
    {
     "data": {
      "image/png": "[encoded data removed]",
      "text/plain": [
       "<Figure size 432x288 with 1 Axes>"
      ]
     },
     "metadata": {
      "needs_background": "light"
     },
     "output_type": "display_data"
    }
   ],
   "source": [
    "# Create a Scatter Plot for temperature vs latitude\n",
    "x_values = north_weather_data['lat']\n",
    "y_values = north_weather_data['temp']\n",
    "plt.scatter(x_values,y_values)\n",
    "plt.xlabel('Latitude')\n",
    "plt.ylabel('Temperature')\n",
    "plt.show()"
   ]
  },
  {
   "cell_type": "code",
   "execution_count": 23,
   "metadata": {},
   "outputs": [
    {
     "name": "stdout",
     "output_type": "stream",
     "text": [
      "0     18.861781\n",
      "1     16.979274\n",
      "4     18.286521\n",
      "5     20.768150\n",
      "8     14.316870\n",
      "9     13.671044\n",
      "10    19.646430\n",
      "13    16.427554\n",
      "14    11.543960\n",
      "15    19.253904\n",
      "19    10.086000\n",
      "20    20.742463\n",
      "21    30.256592\n",
      "22    29.631622\n",
      "23    14.301114\n",
      "24    17.477984\n",
      "28    17.718347\n",
      "30    25.502319\n",
      "32    13.141950\n",
      "36    20.037936\n",
      "37    29.560547\n",
      "42    17.159164\n",
      "43    18.603515\n",
      "44    29.758957\n",
      "46    25.155558\n",
      "47    29.173658\n",
      "49    11.777505\n",
      "50    13.469090\n",
      "52    19.781468\n",
      "53    19.976281\n",
      "54    29.628374\n",
      "55    19.324094\n",
      "56    12.627485\n",
      "58    14.378443\n",
      "61    17.682540\n",
      "62    12.438496\n",
      "63    12.372279\n",
      "64    14.440876\n",
      "65    20.129035\n",
      "67    14.850821\n",
      "Name: lat, dtype: float64\n"
     ]
    }
   ],
   "source": [
    "# Perform a linear regression on temperature vs. latitude\n",
    "(slope, intercept, rvalue, pvalue, stderr) = stats.linregress(x_values, y_values)\n",
    "\n",
    "# Get regression values\n",
    "regress_values = x_values * slope + intercept\n",
    "print(regress_values)"
   ]
  },
  {
   "cell_type": "code",
   "execution_count": 24,
   "metadata": {},
   "outputs": [
    {
     "name": "stdout",
     "output_type": "stream",
     "text": [
      "y = -0.27x +31.08\n"
     ]
    }
   ],
   "source": [
    "# Create line equation string\n",
    "line_eq = \"y = \" + str(round(slope,2)) + \"x +\" + str(round(intercept,2))\n",
    "print(line_eq)"
   ]
  },
  {
   "cell_type": "code",
   "execution_count": 25,
   "metadata": {},
   "outputs": [
    {
     "name": "stdout",
     "output_type": "stream",
     "text": [
      "The r-value is: 0.3606108368694876\n"
     ]
    },
    {
     "data": {
      "image/png": "[encoded data removed]",
      "text/plain": [
       "<Figure size 432x288 with 1 Axes>"
      ]
     },
     "metadata": {
      "needs_background": "light"
     },
     "output_type": "display_data"
    }
   ],
   "source": [
    "# Create Plot\n",
    "plt.scatter(x_values,y_values)\n",
    "plt.plot(x_values,regress_values,\"r-\")\n",
    "\n",
    "# # Label plot and annotate the line equation\n",
    "# Add title to graph\n",
    "plt.xlabel('Latitude')\n",
    "plt.ylabel('Temperature')\n",
    "plt.annotate(line_eq,(10,15),fontsize=15,color=\"red\")\n",
    "\n",
    "# # Print r value\n",
    "print(f\"The r-value is: {rvalue**2}\")\n",
    "\n",
    "# # Show plot\n",
    "plt.show()"
   ]
  },
  {
   "cell_type": "markdown",
   "metadata": {},
   "source": [
    "Southern Hemisphere - Max Temp vs. Latitude Linear Regression"
   ]
  },
  {
   "cell_type": "code",
   "execution_count": 26,
   "metadata": {},
   "outputs": [
    {
     "data": {
      "text/html": [
       "<div>\n",
       "<style scoped>\n",
       "    .dataframe tbody tr th:only-of-type {\n",
       "        vertical-align: middle;\n",
       "    }\n",
       "\n",
       "    .dataframe tbody tr th {\n",
       "        vertical-align: top;\n",
       "    }\n",
       "\n",
       "    .dataframe thead th {\n",
       "        text-align: right;\n",
       "    }\n",
       "</style>\n",
       "<table border=\"1\" class=\"dataframe\">\n",
       "  <thead>\n",
       "    <tr style=\"text-align: right;\">\n",
       "      <th></th>\n",
       "      <th>city</th>\n",
       "      <th>lat</th>\n",
       "      <th>lon</th>\n",
       "      <th>temp</th>\n",
       "      <th>cloud</th>\n",
       "      <th>wind speed</th>\n",
       "      <th>humidity</th>\n",
       "      <th>country</th>\n",
       "    </tr>\n",
       "  </thead>\n",
       "  <tbody>\n",
       "    <tr>\n",
       "      <th>2</th>\n",
       "      <td>rikitea</td>\n",
       "      <td>-23.1203</td>\n",
       "      <td>-134.9692</td>\n",
       "      <td>23.08</td>\n",
       "      <td>40</td>\n",
       "      <td>1.77</td>\n",
       "      <td>74</td>\n",
       "      <td>PF</td>\n",
       "    </tr>\n",
       "    <tr>\n",
       "      <th>3</th>\n",
       "      <td>punta arenas</td>\n",
       "      <td>-53.1500</td>\n",
       "      <td>-70.9167</td>\n",
       "      <td>5.06</td>\n",
       "      <td>0</td>\n",
       "      <td>1.54</td>\n",
       "      <td>81</td>\n",
       "      <td>CL</td>\n",
       "    </tr>\n",
       "    <tr>\n",
       "      <th>6</th>\n",
       "      <td>bima</td>\n",
       "      <td>-8.4667</td>\n",
       "      <td>118.7167</td>\n",
       "      <td>26.72</td>\n",
       "      <td>99</td>\n",
       "      <td>2.08</td>\n",
       "      <td>75</td>\n",
       "      <td>ID</td>\n",
       "    </tr>\n",
       "    <tr>\n",
       "      <th>7</th>\n",
       "      <td>cape town</td>\n",
       "      <td>-33.9258</td>\n",
       "      <td>18.4232</td>\n",
       "      <td>12.49</td>\n",
       "      <td>75</td>\n",
       "      <td>1.79</td>\n",
       "      <td>84</td>\n",
       "      <td>ZA</td>\n",
       "    </tr>\n",
       "    <tr>\n",
       "      <th>11</th>\n",
       "      <td>denpasar</td>\n",
       "      <td>-8.6500</td>\n",
       "      <td>115.2167</td>\n",
       "      <td>25.81</td>\n",
       "      <td>20</td>\n",
       "      <td>2.57</td>\n",
       "      <td>89</td>\n",
       "      <td>ID</td>\n",
       "    </tr>\n",
       "    <tr>\n",
       "      <th>12</th>\n",
       "      <td>busselton</td>\n",
       "      <td>-33.6500</td>\n",
       "      <td>115.3333</td>\n",
       "      <td>13.85</td>\n",
       "      <td>99</td>\n",
       "      <td>3.37</td>\n",
       "      <td>66</td>\n",
       "      <td>AU</td>\n",
       "    </tr>\n",
       "    <tr>\n",
       "      <th>16</th>\n",
       "      <td>atuona</td>\n",
       "      <td>-9.8000</td>\n",
       "      <td>-139.0333</td>\n",
       "      <td>25.97</td>\n",
       "      <td>24</td>\n",
       "      <td>11.15</td>\n",
       "      <td>75</td>\n",
       "      <td>PF</td>\n",
       "    </tr>\n",
       "    <tr>\n",
       "      <th>17</th>\n",
       "      <td>loandjili</td>\n",
       "      <td>-4.7561</td>\n",
       "      <td>11.8578</td>\n",
       "      <td>23.06</td>\n",
       "      <td>20</td>\n",
       "      <td>0.00</td>\n",
       "      <td>94</td>\n",
       "      <td>CG</td>\n",
       "    </tr>\n",
       "    <tr>\n",
       "      <th>18</th>\n",
       "      <td>castro</td>\n",
       "      <td>-24.7911</td>\n",
       "      <td>-50.0119</td>\n",
       "      <td>2.38</td>\n",
       "      <td>72</td>\n",
       "      <td>2.84</td>\n",
       "      <td>76</td>\n",
       "      <td>BR</td>\n",
       "    </tr>\n",
       "    <tr>\n",
       "      <th>25</th>\n",
       "      <td>vaini</td>\n",
       "      <td>-21.2000</td>\n",
       "      <td>-175.2000</td>\n",
       "      <td>25.09</td>\n",
       "      <td>75</td>\n",
       "      <td>3.09</td>\n",
       "      <td>83</td>\n",
       "      <td>TO</td>\n",
       "    </tr>\n",
       "    <tr>\n",
       "      <th>26</th>\n",
       "      <td>auki</td>\n",
       "      <td>-8.7676</td>\n",
       "      <td>160.7034</td>\n",
       "      <td>29.12</td>\n",
       "      <td>22</td>\n",
       "      <td>1.22</td>\n",
       "      <td>66</td>\n",
       "      <td>SB</td>\n",
       "    </tr>\n",
       "    <tr>\n",
       "      <th>27</th>\n",
       "      <td>ushuaia</td>\n",
       "      <td>-54.8000</td>\n",
       "      <td>-68.3000</td>\n",
       "      <td>8.81</td>\n",
       "      <td>75</td>\n",
       "      <td>9.26</td>\n",
       "      <td>53</td>\n",
       "      <td>AR</td>\n",
       "    </tr>\n",
       "    <tr>\n",
       "      <th>29</th>\n",
       "      <td>arraial do cabo</td>\n",
       "      <td>-22.9661</td>\n",
       "      <td>-42.0278</td>\n",
       "      <td>19.92</td>\n",
       "      <td>90</td>\n",
       "      <td>4.63</td>\n",
       "      <td>83</td>\n",
       "      <td>BR</td>\n",
       "    </tr>\n",
       "    <tr>\n",
       "      <th>31</th>\n",
       "      <td>namibe</td>\n",
       "      <td>-15.1961</td>\n",
       "      <td>12.1522</td>\n",
       "      <td>18.23</td>\n",
       "      <td>7</td>\n",
       "      <td>3.46</td>\n",
       "      <td>71</td>\n",
       "      <td>AO</td>\n",
       "    </tr>\n",
       "    <tr>\n",
       "      <th>33</th>\n",
       "      <td>lebu</td>\n",
       "      <td>-37.6167</td>\n",
       "      <td>-73.6500</td>\n",
       "      <td>9.46</td>\n",
       "      <td>100</td>\n",
       "      <td>0.10</td>\n",
       "      <td>66</td>\n",
       "      <td>CL</td>\n",
       "    </tr>\n",
       "    <tr>\n",
       "      <th>34</th>\n",
       "      <td>huarmey</td>\n",
       "      <td>-10.0681</td>\n",
       "      <td>-78.1522</td>\n",
       "      <td>18.08</td>\n",
       "      <td>80</td>\n",
       "      <td>4.17</td>\n",
       "      <td>85</td>\n",
       "      <td>PE</td>\n",
       "    </tr>\n",
       "    <tr>\n",
       "      <th>35</th>\n",
       "      <td>mount gambier</td>\n",
       "      <td>-37.8333</td>\n",
       "      <td>140.7667</td>\n",
       "      <td>9.95</td>\n",
       "      <td>4</td>\n",
       "      <td>5.14</td>\n",
       "      <td>81</td>\n",
       "      <td>AU</td>\n",
       "    </tr>\n",
       "    <tr>\n",
       "      <th>38</th>\n",
       "      <td>hobart</td>\n",
       "      <td>-42.8794</td>\n",
       "      <td>147.3294</td>\n",
       "      <td>6.43</td>\n",
       "      <td>40</td>\n",
       "      <td>4.12</td>\n",
       "      <td>87</td>\n",
       "      <td>AU</td>\n",
       "    </tr>\n",
       "    <tr>\n",
       "      <th>39</th>\n",
       "      <td>mataura</td>\n",
       "      <td>-46.1927</td>\n",
       "      <td>168.8643</td>\n",
       "      <td>9.15</td>\n",
       "      <td>89</td>\n",
       "      <td>2.18</td>\n",
       "      <td>93</td>\n",
       "      <td>NZ</td>\n",
       "    </tr>\n",
       "    <tr>\n",
       "      <th>40</th>\n",
       "      <td>maceio</td>\n",
       "      <td>-9.6658</td>\n",
       "      <td>-35.7353</td>\n",
       "      <td>24.69</td>\n",
       "      <td>0</td>\n",
       "      <td>1.03</td>\n",
       "      <td>78</td>\n",
       "      <td>BR</td>\n",
       "    </tr>\n",
       "    <tr>\n",
       "      <th>41</th>\n",
       "      <td>saldanha</td>\n",
       "      <td>-33.0117</td>\n",
       "      <td>17.9442</td>\n",
       "      <td>13.03</td>\n",
       "      <td>84</td>\n",
       "      <td>8.62</td>\n",
       "      <td>77</td>\n",
       "      <td>ZA</td>\n",
       "    </tr>\n",
       "    <tr>\n",
       "      <th>45</th>\n",
       "      <td>port alfred</td>\n",
       "      <td>-33.5906</td>\n",
       "      <td>26.8910</td>\n",
       "      <td>17.31</td>\n",
       "      <td>83</td>\n",
       "      <td>3.93</td>\n",
       "      <td>75</td>\n",
       "      <td>ZA</td>\n",
       "    </tr>\n",
       "    <tr>\n",
       "      <th>48</th>\n",
       "      <td>bluff</td>\n",
       "      <td>-46.6000</td>\n",
       "      <td>168.3333</td>\n",
       "      <td>9.33</td>\n",
       "      <td>86</td>\n",
       "      <td>5.45</td>\n",
       "      <td>74</td>\n",
       "      <td>NZ</td>\n",
       "    </tr>\n",
       "    <tr>\n",
       "      <th>51</th>\n",
       "      <td>bendigo</td>\n",
       "      <td>-36.7667</td>\n",
       "      <td>144.2833</td>\n",
       "      <td>8.69</td>\n",
       "      <td>41</td>\n",
       "      <td>1.79</td>\n",
       "      <td>88</td>\n",
       "      <td>AU</td>\n",
       "    </tr>\n",
       "    <tr>\n",
       "      <th>57</th>\n",
       "      <td>mar del plata</td>\n",
       "      <td>-38.0023</td>\n",
       "      <td>-57.5575</td>\n",
       "      <td>7.56</td>\n",
       "      <td>40</td>\n",
       "      <td>0.45</td>\n",
       "      <td>63</td>\n",
       "      <td>AR</td>\n",
       "    </tr>\n",
       "    <tr>\n",
       "      <th>59</th>\n",
       "      <td>bredasdorp</td>\n",
       "      <td>-34.5322</td>\n",
       "      <td>20.0403</td>\n",
       "      <td>11.62</td>\n",
       "      <td>99</td>\n",
       "      <td>1.54</td>\n",
       "      <td>94</td>\n",
       "      <td>ZA</td>\n",
       "    </tr>\n",
       "    <tr>\n",
       "      <th>60</th>\n",
       "      <td>puerto ayora</td>\n",
       "      <td>-0.7393</td>\n",
       "      <td>-90.3518</td>\n",
       "      <td>22.53</td>\n",
       "      <td>56</td>\n",
       "      <td>3.67</td>\n",
       "      <td>92</td>\n",
       "      <td>EC</td>\n",
       "    </tr>\n",
       "    <tr>\n",
       "      <th>66</th>\n",
       "      <td>caravelas</td>\n",
       "      <td>-17.7125</td>\n",
       "      <td>-39.2481</td>\n",
       "      <td>21.59</td>\n",
       "      <td>0</td>\n",
       "      <td>2.16</td>\n",
       "      <td>87</td>\n",
       "      <td>BR</td>\n",
       "    </tr>\n",
       "  </tbody>\n",
       "</table>\n",
       "</div>"
      ],
      "text/plain": [
       "               city      lat       lon   temp  cloud  wind speed  humidity  \\\n",
       "2           rikitea -23.1203 -134.9692  23.08     40        1.77        74   \n",
       "3      punta arenas -53.1500  -70.9167   5.06      0        1.54        81   \n",
       "6              bima  -8.4667  118.7167  26.72     99        2.08        75   \n",
       "7         cape town -33.9258   18.4232  12.49     75        1.79        84   \n",
       "11         denpasar  -8.6500  115.2167  25.81     20        2.57        89   \n",
       "12        busselton -33.6500  115.3333  13.85     99        3.37        66   \n",
       "16           atuona  -9.8000 -139.0333  25.97     24       11.15        75   \n",
       "17        loandjili  -4.7561   11.8578  23.06     20        0.00        94   \n",
       "18           castro -24.7911  -50.0119   2.38     72        2.84        76   \n",
       "25            vaini -21.2000 -175.2000  25.09     75        3.09        83   \n",
       "26             auki  -8.7676  160.7034  29.12     22        1.22        66   \n",
       "27          ushuaia -54.8000  -68.3000   8.81     75        9.26        53   \n",
       "29  arraial do cabo -22.9661  -42.0278  19.92     90        4.63        83   \n",
       "31           namibe -15.1961   12.1522  18.23      7        3.46        71   \n",
       "33             lebu -37.6167  -73.6500   9.46    100        0.10        66   \n",
       "34          huarmey -10.0681  -78.1522  18.08     80        4.17        85   \n",
       "35    mount gambier -37.8333  140.7667   9.95      4        5.14        81   \n",
       "38           hobart -42.8794  147.3294   6.43     40        4.12        87   \n",
       "39          mataura -46.1927  168.8643   9.15     89        2.18        93   \n",
       "40           maceio  -9.6658  -35.7353  24.69      0        1.03        78   \n",
       "41         saldanha -33.0117   17.9442  13.03     84        8.62        77   \n",
       "45      port alfred -33.5906   26.8910  17.31     83        3.93        75   \n",
       "48            bluff -46.6000  168.3333   9.33     86        5.45        74   \n",
       "51          bendigo -36.7667  144.2833   8.69     41        1.79        88   \n",
       "57    mar del plata -38.0023  -57.5575   7.56     40        0.45        63   \n",
       "59       bredasdorp -34.5322   20.0403  11.62     99        1.54        94   \n",
       "60     puerto ayora  -0.7393  -90.3518  22.53     56        3.67        92   \n",
       "66        caravelas -17.7125  -39.2481  21.59      0        2.16        87   \n",
       "\n",
       "   country  \n",
       "2       PF  \n",
       "3       CL  \n",
       "6       ID  \n",
       "7       ZA  \n",
       "11      ID  \n",
       "12      AU  \n",
       "16      PF  \n",
       "17      CG  \n",
       "18      BR  \n",
       "25      TO  \n",
       "26      SB  \n",
       "27      AR  \n",
       "29      BR  \n",
       "31      AO  \n",
       "33      CL  \n",
       "34      PE  \n",
       "35      AU  \n",
       "38      AU  \n",
       "39      NZ  \n",
       "40      BR  \n",
       "41      ZA  \n",
       "45      ZA  \n",
       "48      NZ  \n",
       "51      AU  \n",
       "57      AR  \n",
       "59      ZA  \n",
       "60      EC  \n",
       "66      BR  "
      ]
     },
     "execution_count": 26,
     "metadata": {},
     "output_type": "execute_result"
    }
   ],
   "source": [
    "southern_weather_data = weather_data.loc[(weather_data[\"lat\"] <0)]\n",
    "southern_weather_data"
   ]
  },
  {
   "cell_type": "code",
   "execution_count": 27,
   "metadata": {},
   "outputs": [
    {
     "data": {
      "image/png": "[encoded data removed]",
      "text/plain": [
       "<Figure size 432x288 with 1 Axes>"
      ]
     },
     "metadata": {
      "needs_background": "light"
     },
     "output_type": "display_data"
    }
   ],
   "source": [
    "# Create a Scatter Plot for temperature vs latitude\n",
    "x_values = southern_weather_data['lat']\n",
    "y_values = southern_weather_data['temp']\n",
    "plt.scatter(x_values,y_values)\n",
    "plt.xlabel('Latitude')\n",
    "plt.ylabel('Temperature')\n",
    "plt.show()"
   ]
  },
  {
   "cell_type": "code",
   "execution_count": 28,
   "metadata": {},
   "outputs": [
    {
     "name": "stdout",
     "output_type": "stream",
     "text": [
      "2     17.548824\n",
      "3      4.965362\n",
      "6     23.689179\n",
      "7     13.020953\n",
      "11    23.612370\n",
      "12    13.136523\n",
      "16    23.130481\n",
      "17    25.244046\n",
      "18    16.848702\n",
      "25    18.353495\n",
      "26    23.563092\n",
      "27     4.273956\n",
      "29    17.613439\n",
      "31    20.869333\n",
      "33    11.474341\n",
      "34    23.018138\n",
      "35    11.383579\n",
      "38     9.269092\n",
      "39     7.880707\n",
      "40    23.186716\n",
      "41    13.403992\n",
      "45    13.161414\n",
      "48     7.710034\n",
      "51    11.830520\n",
      "57    11.312762\n",
      "59    12.766851\n",
      "60    26.927222\n",
      "66    19.814876\n",
      "Name: lat, dtype: float64\n",
      "y = 0.42x +27.24\n",
      "The r-value is: 0.7012967738293463\n"
     ]
    },
    {
     "data": {
      "image/png": "[encoded data removed]",
      "text/plain": [
       "<Figure size 432x288 with 1 Axes>"
      ]
     },
     "metadata": {
      "needs_background": "light"
     },
     "output_type": "display_data"
    }
   ],
   "source": [
    "# Perform a linear regression on temperature vs. latitude\n",
    "(slope, intercept, rvalue, pvalue, stderr) = stats.linregress(x_values, y_values)\n",
    "\n",
    "# Get regression values\n",
    "regress_values = x_values * slope + intercept\n",
    "print(regress_values)\n",
    "\n",
    "# Create line equation string\n",
    "line_eq = \"y = \" + str(round(slope,2)) + \"x +\" + str(round(intercept,2))\n",
    "print(line_eq)\n",
    "\n",
    "# Create Plot\n",
    "plt.scatter(x_values,y_values)\n",
    "plt.plot(x_values,regress_values,\"r-\")\n",
    "\n",
    "# # Label plot and annotate the line equation\n",
    "# Add title to graph\n",
    "plt.xlabel('Latitude')\n",
    "plt.ylabel('Temperature')\n",
    "plt.annotate(line_eq,(-30,5),fontsize=15,color=\"red\")\n",
    "\n",
    "# # Print r value\n",
    "print(f\"The r-value is: {rvalue**2}\")\n",
    "\n",
    "# # Show plot\n",
    "plt.show()"
   ]
  },
  {
   "cell_type": "markdown",
   "metadata": {},
   "source": [
    "####  Northern Hemisphere - Humidity (%) vs. Latitude Linear Regression"
   ]
  },
  {
   "cell_type": "code",
   "execution_count": 29,
   "metadata": {},
   "outputs": [
    {
     "data": {
      "image/png": "[encoded data removed]",
      "text/plain": [
       "<Figure size 432x288 with 1 Axes>"
      ]
     },
     "metadata": {
      "needs_background": "light"
     },
     "output_type": "display_data"
    }
   ],
   "source": [
    "x_values = north_weather_data['lat']\n",
    "y_values = north_weather_data['humidity']\n",
    "plt.scatter(x_values,y_values)\n",
    "plt.xlabel('Latitude')\n",
    "plt.ylabel('Humidity')\n",
    "plt.show()"
   ]
  },
  {
   "cell_type": "code",
   "execution_count": 30,
   "metadata": {},
   "outputs": [
    {
     "name": "stdout",
     "output_type": "stream",
     "text": [
      "0     71.080758\n",
      "1     69.358675\n",
      "4     70.554520\n",
      "5     72.824669\n",
      "8     66.923156\n",
      "9     66.332367\n",
      "10    71.798540\n",
      "13    68.853971\n",
      "14    64.386549\n",
      "15    71.439465\n",
      "19    63.052834\n",
      "20    72.801171\n",
      "21    81.504522\n",
      "22    80.932811\n",
      "23    66.908743\n",
      "24    69.814885\n",
      "28    70.034765\n",
      "30    77.155400\n",
      "32    65.848361\n",
      "36    72.156682\n",
      "37    80.867792\n",
      "42    69.523235\n",
      "43    70.844501\n",
      "44    81.049294\n",
      "46    76.838189\n",
      "47    80.513873\n",
      "49    64.600192\n",
      "50    66.147624\n",
      "52    71.922071\n",
      "53    72.100282\n",
      "54    80.929840\n",
      "55    71.503673\n",
      "56    65.377738\n",
      "58    66.979483\n",
      "61    70.002010\n",
      "62    65.204855\n",
      "63    65.144280\n",
      "64    67.036595\n",
      "65    72.240018\n",
      "67    67.411606\n",
      "Name: lat, dtype: float64\n",
      "y = -0.25x +82.26\n",
      "The r-value is: 0.05290908014283964\n"
     ]
    },
    {
     "data": {
      "image/png": "[encoded data removed]",
      "text/plain": [
       "<Figure size 432x288 with 1 Axes>"
      ]
     },
     "metadata": {
      "needs_background": "light"
     },
     "output_type": "display_data"
    }
   ],
   "source": [
    "# Perform a linear regression on humidity vs. latitude\n",
    "(slope, intercept, rvalue, pvalue, stderr) = stats.linregress(x_values, y_values)\n",
    "\n",
    "# Get regression values\n",
    "regress_values = x_values * slope + intercept\n",
    "print(regress_values)\n",
    "\n",
    "# Create line equation string\n",
    "line_eq = \"y = \" + str(round(slope,2)) + \"x +\" + str(round(intercept,2))\n",
    "print(line_eq)\n",
    "\n",
    "# Create Plot\n",
    "plt.scatter(x_values,y_values)\n",
    "plt.plot(x_values,regress_values,\"r-\")\n",
    "\n",
    "# # Label plot and annotate the line equation\n",
    "# Add title to graph\n",
    "plt.xlabel('Latitude')\n",
    "plt.ylabel('Humidity')\n",
    "plt.annotate(line_eq,(2,40),fontsize=15,color=\"red\")\n",
    "\n",
    "# # Print r value\n",
    "print(f\"The r-value is: {rvalue**2}\")\n",
    "\n",
    "# # Show plot\n",
    "plt.show()"
   ]
  },
  {
   "cell_type": "markdown",
   "metadata": {},
   "source": [
    "####  Southern Hemisphere - Humidity (%) vs. Latitude Linear Regression"
   ]
  },
  {
   "cell_type": "code",
   "execution_count": 31,
   "metadata": {},
   "outputs": [
    {
     "data": {
      "image/png": "[encoded data removed]",
      "text/plain": [
       "<Figure size 432x288 with 1 Axes>"
      ]
     },
     "metadata": {
      "needs_background": "light"
     },
     "output_type": "display_data"
    }
   ],
   "source": [
    "# Create a Scatter Plot for humidity vs latitude\n",
    "x_values = southern_weather_data['lat']\n",
    "y_values = southern_weather_data['humidity']\n",
    "plt.scatter(x_values,y_values)\n",
    "plt.xlabel('Humidity')\n",
    "plt.ylabel('Temperature')\n",
    "plt.show()"
   ]
  },
  {
   "cell_type": "code",
   "execution_count": 32,
   "metadata": {},
   "outputs": [
    {
     "name": "stdout",
     "output_type": "stream",
     "text": [
      "2     79.544718\n",
      "3     74.419457\n",
      "6     82.045693\n",
      "7     77.700510\n",
      "11    82.014408\n",
      "12    77.747581\n",
      "16    81.818134\n",
      "17    82.678992\n",
      "18    79.259557\n",
      "25    79.872461\n",
      "26    81.994337\n",
      "27    74.137846\n",
      "29    79.571035\n",
      "31    80.897165\n",
      "33    77.070573\n",
      "34    81.772377\n",
      "35    77.033605\n",
      "38    76.172371\n",
      "39    75.606880\n",
      "40    81.841038\n",
      "41    77.856522\n",
      "45    77.757719\n",
      "48    75.537365\n",
      "51    77.215645\n",
      "57    77.004761\n",
      "59    77.597014\n",
      "60    83.364552\n",
      "66    80.467683\n",
      "Name: lat, dtype: float64\n",
      "y = 0.17x +83.49\n",
      "The r-value is: 0.06677298292950568\n"
     ]
    },
    {
     "data": {
      "image/png": "[encoded data removed]",
      "text/plain": [
       "<Figure size 432x288 with 1 Axes>"
      ]
     },
     "metadata": {
      "needs_background": "light"
     },
     "output_type": "display_data"
    }
   ],
   "source": [
    "# Perform a linear regression on humidity vs. latitude\n",
    "(slope, intercept, rvalue, pvalue, stderr) = stats.linregress(x_values, y_values)\n",
    "\n",
    "# Get regression values\n",
    "regress_values = x_values * slope + intercept\n",
    "print(regress_values)\n",
    "\n",
    "# Create line equation string\n",
    "line_eq = \"y = \" + str(round(slope,2)) + \"x +\" + str(round(intercept,2))\n",
    "print(line_eq)\n",
    "\n",
    "# Create Plot\n",
    "plt.scatter(x_values,y_values)\n",
    "plt.plot(x_values,regress_values,\"r-\")\n",
    "\n",
    "# # Label plot and annotate the line equation\n",
    "# Add title to graph\n",
    "plt.xlabel('Latitude')\n",
    "plt.ylabel('Humidity')\n",
    "plt.annotate(line_eq,(-30,40),fontsize=15,color=\"red\")\n",
    "\n",
    "# # Print r value\n",
    "print(f\"The r-value is: {rvalue**2}\")\n",
    "\n",
    "# # Show plot\n",
    "plt.show()"
   ]
  },
  {
   "cell_type": "markdown",
   "metadata": {},
   "source": [
    "####  Northern Hemisphere - Cloudiness (%) vs. Latitude Linear Regression"
   ]
  },
  {
   "cell_type": "code",
   "execution_count": 33,
   "metadata": {},
   "outputs": [
    {
     "data": {
      "image/png": "[encoded data removed]",
      "text/plain": [
       "<Figure size 432x288 with 1 Axes>"
      ]
     },
     "metadata": {
      "needs_background": "light"
     },
     "output_type": "display_data"
    }
   ],
   "source": [
    "x_values = north_weather_data['lat']\n",
    "y_values = north_weather_data['cloud']\n",
    "plt.scatter(x_values,y_values)\n",
    "plt.xlabel('Latitude')\n",
    "plt.ylabel('Cloudiness')\n",
    "plt.show()"
   ]
  },
  {
   "cell_type": "code",
   "execution_count": 34,
   "metadata": {},
   "outputs": [
    {
     "name": "stdout",
     "output_type": "stream",
     "text": [
      "0     53.873017\n",
      "1     55.514598\n",
      "4     54.374655\n",
      "5     52.210628\n",
      "8     57.836265\n",
      "9     58.399437\n",
      "10    53.188789\n",
      "13    55.995709\n",
      "14    60.254294\n",
      "15    53.531078\n",
      "19    61.525662\n",
      "20    52.233027\n",
      "21    43.936529\n",
      "22    44.481515\n",
      "23    57.850004\n",
      "24    55.079714\n",
      "28    54.870114\n",
      "30    48.082344\n",
      "32    58.860817\n",
      "36    52.847389\n",
      "37    44.543494\n",
      "42    55.357731\n",
      "43    54.098230\n",
      "44    44.370477\n",
      "46    48.384726\n",
      "47    44.880868\n",
      "49    60.050638\n",
      "50    58.575544\n",
      "52    53.071033\n",
      "53    52.901152\n",
      "54    44.484347\n",
      "55    53.469872\n",
      "56    59.309440\n",
      "58    57.782572\n",
      "61    54.901337\n",
      "62    59.474242\n",
      "63    59.531984\n",
      "64    57.728129\n",
      "65    52.767949\n",
      "67    57.370649\n",
      "Name: lat, dtype: float64\n",
      "y = 0.23x +43.22\n",
      "The r-value is: 0.01520025201484712\n"
     ]
    },
    {
     "data": {
      "image/png": "[encoded data removed]",
      "text/plain": [
       "<Figure size 432x288 with 1 Axes>"
      ]
     },
     "metadata": {
      "needs_background": "light"
     },
     "output_type": "display_data"
    }
   ],
   "source": [
    "# Perform a linear regression on cloudiness vs. latitude\n",
    "(slope, intercept, rvalue, pvalue, stderr) = stats.linregress(x_values, y_values)\n",
    "\n",
    "# Get regression values\n",
    "regress_values = x_values * slope + intercept\n",
    "print(regress_values)\n",
    "\n",
    "# Create line equation string\n",
    "line_eq = \"y = \" + str(round(slope,2)) + \"x +\" + str(round(intercept,2))\n",
    "print(line_eq)\n",
    "\n",
    "# Create Plot\n",
    "plt.scatter(x_values,y_values)\n",
    "plt.plot(x_values,regress_values,\"r-\")\n",
    "\n",
    "# # Label plot and annotate the line equation\n",
    "# Add title to graph\n",
    "plt.xlabel('Latitude')\n",
    "plt.ylabel('Cloudiness')\n",
    "plt.annotate(line_eq,(30,45),fontsize=15,color=\"red\")\n",
    "\n",
    "# # Print r value\n",
    "print(f\"The r-value is: {rvalue**2}\")\n",
    "\n",
    "# # Show plot\n",
    "plt.show()"
   ]
  },
  {
   "cell_type": "markdown",
   "metadata": {},
   "source": [
    "####  Southern Hemisphere - Cloudiness (%) vs. Latitude Linear Regression"
   ]
  },
  {
   "cell_type": "code",
   "execution_count": 35,
   "metadata": {},
   "outputs": [
    {
     "data": {
      "image/png": "[encoded data removed]",
      "text/plain": [
       "<Figure size 432x288 with 1 Axes>"
      ]
     },
     "metadata": {
      "needs_background": "light"
     },
     "output_type": "display_data"
    }
   ],
   "source": [
    "# Create a Scatter Plot for cloudiness vs latitude\n",
    "x_values = southern_weather_data['lat']\n",
    "y_values = southern_weather_data['cloud']\n",
    "plt.scatter(x_values,y_values)\n",
    "plt.xlabel('Humidity')\n",
    "plt.ylabel('Cloudiness')\n",
    "plt.show()"
   ]
  },
  {
   "cell_type": "code",
   "execution_count": 36,
   "metadata": {},
   "outputs": [
    {
     "name": "stdout",
     "output_type": "stream",
     "text": [
      "2     52.087377\n",
      "3     70.373704\n",
      "6     43.164194\n",
      "7     58.667293\n",
      "11    43.275813\n",
      "12    58.499347\n",
      "16    43.976095\n",
      "17    40.904656\n",
      "18    53.104796\n",
      "25    50.918027\n",
      "26    43.347424\n",
      "27    71.378457\n",
      "29    51.993478\n",
      "31    47.262004\n",
      "33    60.914835\n",
      "34    44.139353\n",
      "35    61.046732\n",
      "38    64.119511\n",
      "39    66.137116\n",
      "40    43.894376\n",
      "41    58.110660\n",
      "45    58.463176\n",
      "48    66.385138\n",
      "51    60.397235\n",
      "57    61.149643\n",
      "59    59.036555\n",
      "60    38.458660\n",
      "66    48.794344\n",
      "Name: lat, dtype: float64\n",
      "y = -0.61x +38.01\n",
      "The r-value is: 0.07047513756593471\n"
     ]
    },
    {
     "data": {
      "image/png": "[encoded data removed]",
      "text/plain": [
       "<Figure size 432x288 with 1 Axes>"
      ]
     },
     "metadata": {
      "needs_background": "light"
     },
     "output_type": "display_data"
    }
   ],
   "source": [
    "# Perform a linear regression on cloudiness vs. latitude\n",
    "(slope, intercept, rvalue, pvalue, stderr) = stats.linregress(x_values, y_values)\n",
    "\n",
    "# Get regression values\n",
    "regress_values = x_values * slope + intercept\n",
    "print(regress_values)\n",
    "\n",
    "# Create line equation string\n",
    "line_eq = \"y = \" + str(round(slope,2)) + \"x +\" + str(round(intercept,2))\n",
    "print(line_eq)\n",
    "\n",
    "# Create Plot\n",
    "plt.scatter(x_values,y_values)\n",
    "plt.plot(x_values,regress_values,\"r-\")\n",
    "\n",
    "# # Label plot and annotate the line equation\n",
    "# Add title to graph\n",
    "plt.xlabel('Latitude')\n",
    "plt.ylabel('Cloudiness')\n",
    "plt.annotate(line_eq,(-40,25),fontsize=15,color=\"red\")\n",
    "\n",
    "# # Print r value\n",
    "print(f\"The r-value is: {rvalue**2}\")\n",
    "\n",
    "# # Show plot\n",
    "plt.show()"
   ]
  },
  {
   "cell_type": "markdown",
   "metadata": {},
   "source": [
    "####  Northern Hemisphere - Wind Speed (mph) vs. Latitude Linear Regression"
   ]
  },
  {
   "cell_type": "code",
   "execution_count": 37,
   "metadata": {},
   "outputs": [
    {
     "data": {
      "image/png": "[encoded data removed]",
      "text/plain": [
       "<Figure size 432x288 with 1 Axes>"
      ]
     },
     "metadata": {
      "needs_background": "light"
     },
     "output_type": "display_data"
    }
   ],
   "source": [
    "x_values = north_weather_data['lat']\n",
    "y_values = north_weather_data['wind speed']\n",
    "plt.scatter(x_values,y_values)\n",
    "plt.xlabel('Latitude')\n",
    "plt.ylabel('Wind Speed')\n",
    "plt.show()"
   ]
  },
  {
   "cell_type": "code",
   "execution_count": 38,
   "metadata": {},
   "outputs": [
    {
     "name": "stdout",
     "output_type": "stream",
     "text": [
      "0     3.065578\n",
      "1     3.389105\n",
      "4     3.164442\n",
      "5     2.737950\n",
      "8     3.846665\n",
      "9     3.957657\n",
      "10    2.930729\n",
      "13    3.483924\n",
      "14    4.323217\n",
      "15    2.998188\n",
      "19    4.573781\n",
      "20    2.742365\n",
      "21    1.107269\n",
      "22    1.214677\n",
      "23    3.849373\n",
      "24    3.303397\n",
      "28    3.262088\n",
      "30    1.924337\n",
      "32    4.048586\n",
      "36    2.863444\n",
      "37    1.226892\n",
      "42    3.358189\n",
      "43    3.109964\n",
      "44    1.192793\n",
      "46    1.983932\n",
      "47    1.293382\n",
      "49    4.283080\n",
      "50    3.992364\n",
      "52    2.907521\n",
      "53    2.874040\n",
      "54    1.215235\n",
      "55    2.986125\n",
      "56    4.137002\n",
      "58    3.836083\n",
      "61    3.268242\n",
      "62    4.169482\n",
      "63    4.180862\n",
      "64    3.825353\n",
      "65    2.847788\n",
      "67    3.754900\n",
      "Name: lat, dtype: float64\n",
      "y = 0.05x +0.97\n",
      "The r-value is: 0.16882222579015357\n"
     ]
    },
    {
     "data": {
      "image/png": "[encoded data removed]",
      "text/plain": [
       "<Figure size 432x288 with 1 Axes>"
      ]
     },
     "metadata": {
      "needs_background": "light"
     },
     "output_type": "display_data"
    }
   ],
   "source": [
    "# Perform a linear regression on wind speed vs. latitude\n",
    "(slope, intercept, rvalue, pvalue, stderr) = stats.linregress(x_values, y_values)\n",
    "\n",
    "# Get regression values\n",
    "regress_values = x_values * slope + intercept\n",
    "print(regress_values)\n",
    "\n",
    "# Create line equation string\n",
    "line_eq = \"y = \" + str(round(slope,2)) + \"x +\" + str(round(intercept,2))\n",
    "print(line_eq)\n",
    "\n",
    "# Create Plot\n",
    "plt.scatter(x_values,y_values)\n",
    "plt.plot(x_values,regress_values,\"r-\")\n",
    "\n",
    "# # Label plot and annotate the line equation\n",
    "# Add title to graph\n",
    "plt.xlabel('Latitude')\n",
    "plt.ylabel('Wind Speed')\n",
    "plt.annotate(line_eq,(40,10),fontsize=15,color=\"red\")\n",
    "\n",
    "# # Print r value\n",
    "print(f\"The r-value is: {rvalue**2}\")\n",
    "\n",
    "# # Show plot\n",
    "plt.show()"
   ]
  },
  {
   "cell_type": "markdown",
   "metadata": {},
   "source": [
    "####  Southern Hemisphere - Wind Speed (mph) vs. Latitude Linear Regression"
   ]
  },
  {
   "cell_type": "code",
   "execution_count": 39,
   "metadata": {},
   "outputs": [
    {
     "data": {
      "image/png": "[encoded data removed]",
      "text/plain": [
       "<Figure size 432x288 with 1 Axes>"
      ]
     },
     "metadata": {
      "needs_background": "light"
     },
     "output_type": "display_data"
    }
   ],
   "source": [
    "# Create a Scatter Plot for cloudiness vs latitude\n",
    "x_values = southern_weather_data['lat']\n",
    "y_values = southern_weather_data['wind speed']\n",
    "plt.scatter(x_values,y_values)\n",
    "plt.xlabel('Humidity')\n",
    "plt.ylabel('Wind Speed')\n",
    "plt.show()"
   ]
  },
  {
   "cell_type": "code",
   "execution_count": 40,
   "metadata": {},
   "outputs": [
    {
     "name": "stdout",
     "output_type": "stream",
     "text": [
      "2     3.245311\n",
      "3     3.914123\n",
      "6     2.918951\n",
      "7     3.485968\n",
      "11    2.923034\n",
      "12    3.479825\n",
      "16    2.948646\n",
      "17    2.836310\n",
      "18    3.282523\n",
      "25    3.202543\n",
      "26    2.925653\n",
      "27    3.950871\n",
      "29    3.241877\n",
      "31    3.068826\n",
      "33    3.568171\n",
      "34    2.954617\n",
      "35    3.572995\n",
      "38    3.685380\n",
      "39    3.759172\n",
      "40    2.945657\n",
      "41    3.465609\n",
      "45    3.478503\n",
      "48    3.768244\n",
      "51    3.549240\n",
      "57    3.576758\n",
      "59    3.499474\n",
      "60    2.746849\n",
      "66    3.124871\n",
      "Name: lat, dtype: float64\n",
      "y = -0.02x +2.73\n",
      "The r-value is: 0.016656741838901524\n"
     ]
    },
    {
     "data": {
      "image/png": "[encoded data removed]",
      "text/plain": [
       "<Figure size 432x288 with 1 Axes>"
      ]
     },
     "metadata": {
      "needs_background": "light"
     },
     "output_type": "display_data"
    }
   ],
   "source": [
    "# Perform a linear regression on wind speed vs. latitude\n",
    "(slope, intercept, rvalue, pvalue, stderr) = stats.linregress(x_values, y_values)\n",
    "\n",
    "# Get regression values\n",
    "regress_values = x_values * slope + intercept\n",
    "print(regress_values)\n",
    "\n",
    "# Create line equation string\n",
    "line_eq = \"y = \" + str(round(slope,2)) + \"x +\" + str(round(intercept,2))\n",
    "print(line_eq)\n",
    "\n",
    "# Create Plot\n",
    "plt.scatter(x_values,y_values)\n",
    "plt.plot(x_values,regress_values,\"r-\")\n",
    "\n",
    "# # Label plot and annotate the line equation\n",
    "# Add title to graph\n",
    "plt.xlabel('Latitude')\n",
    "plt.ylabel('Wind Speed')\n",
    "plt.annotate(line_eq,(-50,10),fontsize=15,color=\"red\")\n",
    "\n",
    "# # Print r value\n",
    "print(f\"The r-value is: {rvalue**2}\")\n",
    "\n",
    "# # Show plot\n",
    "plt.show()"
   ]
  },
  {
   "cell_type": "code",
   "execution_count": null,
   "metadata": {},
   "outputs": [],
   "source": []
  }
 ],
 "metadata": {
  "anaconda-cloud": {},
  "kernel_info": {
   "name": "python3"
  },
  "kernelspec": {
   "display_name": "Python 3",
   "language": "python",
   "name": "python3"
  },
  "language_info": {
   "codemirror_mode": {
    "name": "ipython",
    "version": 3
   },
   "file_extension": ".py",
   "mimetype": "text/x-python",
   "name": "python",
   "nbconvert_exporter": "python",
   "pygments_lexer": "ipython3",
   "version": "3.8.5"
  },
  "latex_envs": {
   "LaTeX_envs_menu_present": true,
   "autoclose": false,
   "autocomplete": true,
   "bibliofile": "biblio.bib",
   "cite_by": "apalike",
   "current_citInitial": 1,
   "eqLabelWithNumbers": true,
   "eqNumInitial": 1,
   "hotkeys": {
    "equation": "Ctrl-E",
    "itemize": "Ctrl-I"
   },
   "labels_anchors": false,
   "latex_user_defs": false,
   "report_style_numbering": false,
   "user_envs_cfg": false
  },
  "nteract": {
   "version": "0.12.3"
  }
 },
 "nbformat": 4,
 "nbformat_minor": 4
}
